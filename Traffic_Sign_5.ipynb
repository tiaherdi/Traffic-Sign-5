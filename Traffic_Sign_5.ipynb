{
  "nbformat": 4,
  "nbformat_minor": 0,
  "metadata": {
    "colab": {
      "name": "Traffic Sign_5",
      "provenance": [],
      "collapsed_sections": [],
      "include_colab_link": true
    },
    "kernelspec": {
      "name": "python3",
      "display_name": "Python 3"
    },
    "language_info": {
      "name": "python"
    }
  },
  "cells": [
    {
      "cell_type": "markdown",
      "metadata": {
        "id": "view-in-github",
        "colab_type": "text"
      },
      "source": [
        "<a href=\"https://colab.research.google.com/github/tiaherdi/Traffic-Sign-5/blob/main/Traffic_Sign_5.ipynb\" target=\"_parent\"><img src=\"https://colab.research.google.com/assets/colab-badge.svg\" alt=\"Open In Colab\"/></a>"
      ]
    },
    {
      "cell_type": "code",
      "execution_count": 243,
      "metadata": {
        "id": "gxKoWmqr9b1R"
      },
      "outputs": [],
      "source": [
        "# Import library\n",
        "\n",
        "import tensorflow as tf\n",
        "import pandas as pd # data processing, CSV file I/O (e.g. pd.read_csv)\n",
        "import numpy as np # linear algebra\n",
        "import matplotlib.pyplot as plt\n",
        "import seaborn as sns # graph"
      ]
    },
    {
      "cell_type": "code",
      "source": [
        "# Read file from dataset via github \n",
        "dataset = pd.read_csv('https://raw.githubusercontent.com/tiaherdi/Traffic-Sign-5/main/covid_impact_on_airport_traffic.csv?token=GHSAT0AAAAAABXA5PPA37IFB23TYU6SFZYUYXBICBQ',index_col='Date',parse_dates=['Date'])\n",
        "dataset.head()"
      ],
      "metadata": {
        "id": "JnKuuGKkDNd5",
        "outputId": "3bec1d8d-a194-4d72-ed6f-4de6771124fe",
        "colab": {
          "base_uri": "https://localhost:8080/",
          "height": 380
        }
      },
      "execution_count": 242,
      "outputs": [
        {
          "output_type": "error",
          "ename": "HTTPError",
          "evalue": "ignored",
          "traceback": [
            "\u001b[0;31m---------------------------------------------------------------------------\u001b[0m",
            "\u001b[0;31mHTTPError\u001b[0m                                 Traceback (most recent call last)",
            "\u001b[0;32m<ipython-input-242-89f3649561b1>\u001b[0m in \u001b[0;36m<module>\u001b[0;34m()\u001b[0m\n\u001b[1;32m      1\u001b[0m \u001b[0;31m# Read file from dataset via github\u001b[0m\u001b[0;34m\u001b[0m\u001b[0;34m\u001b[0m\u001b[0;34m\u001b[0m\u001b[0m\n\u001b[0;32m----> 2\u001b[0;31m \u001b[0mdataset\u001b[0m \u001b[0;34m=\u001b[0m \u001b[0mpd\u001b[0m\u001b[0;34m.\u001b[0m\u001b[0mread_csv\u001b[0m\u001b[0;34m(\u001b[0m\u001b[0;34m'https://raw.githubusercontent.com/tiaherdi/Traffic-Sign-5/main/covid_impact_on_airport_traffic.csv?token=GHSAT0AAAAAABXA5PPA37IFB23TYU6SFZYUYXBICBQ'\u001b[0m\u001b[0;34m,\u001b[0m\u001b[0mindex_col\u001b[0m\u001b[0;34m=\u001b[0m\u001b[0;34m'Date'\u001b[0m\u001b[0;34m,\u001b[0m\u001b[0mparse_dates\u001b[0m\u001b[0;34m=\u001b[0m\u001b[0;34m[\u001b[0m\u001b[0;34m'Date'\u001b[0m\u001b[0;34m]\u001b[0m\u001b[0;34m)\u001b[0m\u001b[0;34m\u001b[0m\u001b[0;34m\u001b[0m\u001b[0m\n\u001b[0m\u001b[1;32m      3\u001b[0m \u001b[0mdataset\u001b[0m\u001b[0;34m.\u001b[0m\u001b[0mhead\u001b[0m\u001b[0;34m(\u001b[0m\u001b[0;34m)\u001b[0m\u001b[0;34m\u001b[0m\u001b[0;34m\u001b[0m\u001b[0m\n",
            "\u001b[0;32m/usr/local/lib/python3.7/dist-packages/pandas/util/_decorators.py\u001b[0m in \u001b[0;36mwrapper\u001b[0;34m(*args, **kwargs)\u001b[0m\n\u001b[1;32m    309\u001b[0m                     \u001b[0mstacklevel\u001b[0m\u001b[0;34m=\u001b[0m\u001b[0mstacklevel\u001b[0m\u001b[0;34m,\u001b[0m\u001b[0;34m\u001b[0m\u001b[0;34m\u001b[0m\u001b[0m\n\u001b[1;32m    310\u001b[0m                 )\n\u001b[0;32m--> 311\u001b[0;31m             \u001b[0;32mreturn\u001b[0m \u001b[0mfunc\u001b[0m\u001b[0;34m(\u001b[0m\u001b[0;34m*\u001b[0m\u001b[0margs\u001b[0m\u001b[0;34m,\u001b[0m \u001b[0;34m**\u001b[0m\u001b[0mkwargs\u001b[0m\u001b[0;34m)\u001b[0m\u001b[0;34m\u001b[0m\u001b[0;34m\u001b[0m\u001b[0m\n\u001b[0m\u001b[1;32m    312\u001b[0m \u001b[0;34m\u001b[0m\u001b[0m\n\u001b[1;32m    313\u001b[0m         \u001b[0;32mreturn\u001b[0m \u001b[0mwrapper\u001b[0m\u001b[0;34m\u001b[0m\u001b[0;34m\u001b[0m\u001b[0m\n",
            "\u001b[0;32m/usr/local/lib/python3.7/dist-packages/pandas/io/parsers/readers.py\u001b[0m in \u001b[0;36mread_csv\u001b[0;34m(filepath_or_buffer, sep, delimiter, header, names, index_col, usecols, squeeze, prefix, mangle_dupe_cols, dtype, engine, converters, true_values, false_values, skipinitialspace, skiprows, skipfooter, nrows, na_values, keep_default_na, na_filter, verbose, skip_blank_lines, parse_dates, infer_datetime_format, keep_date_col, date_parser, dayfirst, cache_dates, iterator, chunksize, compression, thousands, decimal, lineterminator, quotechar, quoting, doublequote, escapechar, comment, encoding, encoding_errors, dialect, error_bad_lines, warn_bad_lines, on_bad_lines, delim_whitespace, low_memory, memory_map, float_precision, storage_options)\u001b[0m\n\u001b[1;32m    584\u001b[0m     \u001b[0mkwds\u001b[0m\u001b[0;34m.\u001b[0m\u001b[0mupdate\u001b[0m\u001b[0;34m(\u001b[0m\u001b[0mkwds_defaults\u001b[0m\u001b[0;34m)\u001b[0m\u001b[0;34m\u001b[0m\u001b[0;34m\u001b[0m\u001b[0m\n\u001b[1;32m    585\u001b[0m \u001b[0;34m\u001b[0m\u001b[0m\n\u001b[0;32m--> 586\u001b[0;31m     \u001b[0;32mreturn\u001b[0m \u001b[0m_read\u001b[0m\u001b[0;34m(\u001b[0m\u001b[0mfilepath_or_buffer\u001b[0m\u001b[0;34m,\u001b[0m \u001b[0mkwds\u001b[0m\u001b[0;34m)\u001b[0m\u001b[0;34m\u001b[0m\u001b[0;34m\u001b[0m\u001b[0m\n\u001b[0m\u001b[1;32m    587\u001b[0m \u001b[0;34m\u001b[0m\u001b[0m\n\u001b[1;32m    588\u001b[0m \u001b[0;34m\u001b[0m\u001b[0m\n",
            "\u001b[0;32m/usr/local/lib/python3.7/dist-packages/pandas/io/parsers/readers.py\u001b[0m in \u001b[0;36m_read\u001b[0;34m(filepath_or_buffer, kwds)\u001b[0m\n\u001b[1;32m    480\u001b[0m \u001b[0;34m\u001b[0m\u001b[0m\n\u001b[1;32m    481\u001b[0m     \u001b[0;31m# Create the parser.\u001b[0m\u001b[0;34m\u001b[0m\u001b[0;34m\u001b[0m\u001b[0;34m\u001b[0m\u001b[0m\n\u001b[0;32m--> 482\u001b[0;31m     \u001b[0mparser\u001b[0m \u001b[0;34m=\u001b[0m \u001b[0mTextFileReader\u001b[0m\u001b[0;34m(\u001b[0m\u001b[0mfilepath_or_buffer\u001b[0m\u001b[0;34m,\u001b[0m \u001b[0;34m**\u001b[0m\u001b[0mkwds\u001b[0m\u001b[0;34m)\u001b[0m\u001b[0;34m\u001b[0m\u001b[0;34m\u001b[0m\u001b[0m\n\u001b[0m\u001b[1;32m    483\u001b[0m \u001b[0;34m\u001b[0m\u001b[0m\n\u001b[1;32m    484\u001b[0m     \u001b[0;32mif\u001b[0m \u001b[0mchunksize\u001b[0m \u001b[0;32mor\u001b[0m \u001b[0miterator\u001b[0m\u001b[0;34m:\u001b[0m\u001b[0;34m\u001b[0m\u001b[0;34m\u001b[0m\u001b[0m\n",
            "\u001b[0;32m/usr/local/lib/python3.7/dist-packages/pandas/io/parsers/readers.py\u001b[0m in \u001b[0;36m__init__\u001b[0;34m(self, f, engine, **kwds)\u001b[0m\n\u001b[1;32m    809\u001b[0m             \u001b[0mself\u001b[0m\u001b[0;34m.\u001b[0m\u001b[0moptions\u001b[0m\u001b[0;34m[\u001b[0m\u001b[0;34m\"has_index_names\"\u001b[0m\u001b[0;34m]\u001b[0m \u001b[0;34m=\u001b[0m \u001b[0mkwds\u001b[0m\u001b[0;34m[\u001b[0m\u001b[0;34m\"has_index_names\"\u001b[0m\u001b[0;34m]\u001b[0m\u001b[0;34m\u001b[0m\u001b[0;34m\u001b[0m\u001b[0m\n\u001b[1;32m    810\u001b[0m \u001b[0;34m\u001b[0m\u001b[0m\n\u001b[0;32m--> 811\u001b[0;31m         \u001b[0mself\u001b[0m\u001b[0;34m.\u001b[0m\u001b[0m_engine\u001b[0m \u001b[0;34m=\u001b[0m \u001b[0mself\u001b[0m\u001b[0;34m.\u001b[0m\u001b[0m_make_engine\u001b[0m\u001b[0;34m(\u001b[0m\u001b[0mself\u001b[0m\u001b[0;34m.\u001b[0m\u001b[0mengine\u001b[0m\u001b[0;34m)\u001b[0m\u001b[0;34m\u001b[0m\u001b[0;34m\u001b[0m\u001b[0m\n\u001b[0m\u001b[1;32m    812\u001b[0m \u001b[0;34m\u001b[0m\u001b[0m\n\u001b[1;32m    813\u001b[0m     \u001b[0;32mdef\u001b[0m \u001b[0mclose\u001b[0m\u001b[0;34m(\u001b[0m\u001b[0mself\u001b[0m\u001b[0;34m)\u001b[0m\u001b[0;34m:\u001b[0m\u001b[0;34m\u001b[0m\u001b[0;34m\u001b[0m\u001b[0m\n",
            "\u001b[0;32m/usr/local/lib/python3.7/dist-packages/pandas/io/parsers/readers.py\u001b[0m in \u001b[0;36m_make_engine\u001b[0;34m(self, engine)\u001b[0m\n\u001b[1;32m   1038\u001b[0m             )\n\u001b[1;32m   1039\u001b[0m         \u001b[0;31m# error: Too many arguments for \"ParserBase\"\u001b[0m\u001b[0;34m\u001b[0m\u001b[0;34m\u001b[0m\u001b[0;34m\u001b[0m\u001b[0m\n\u001b[0;32m-> 1040\u001b[0;31m         \u001b[0;32mreturn\u001b[0m \u001b[0mmapping\u001b[0m\u001b[0;34m[\u001b[0m\u001b[0mengine\u001b[0m\u001b[0;34m]\u001b[0m\u001b[0;34m(\u001b[0m\u001b[0mself\u001b[0m\u001b[0;34m.\u001b[0m\u001b[0mf\u001b[0m\u001b[0;34m,\u001b[0m \u001b[0;34m**\u001b[0m\u001b[0mself\u001b[0m\u001b[0;34m.\u001b[0m\u001b[0moptions\u001b[0m\u001b[0;34m)\u001b[0m  \u001b[0;31m# type: ignore[call-arg]\u001b[0m\u001b[0;34m\u001b[0m\u001b[0;34m\u001b[0m\u001b[0m\n\u001b[0m\u001b[1;32m   1041\u001b[0m \u001b[0;34m\u001b[0m\u001b[0m\n\u001b[1;32m   1042\u001b[0m     \u001b[0;32mdef\u001b[0m \u001b[0m_failover_to_python\u001b[0m\u001b[0;34m(\u001b[0m\u001b[0mself\u001b[0m\u001b[0;34m)\u001b[0m\u001b[0;34m:\u001b[0m\u001b[0;34m\u001b[0m\u001b[0;34m\u001b[0m\u001b[0m\n",
            "\u001b[0;32m/usr/local/lib/python3.7/dist-packages/pandas/io/parsers/c_parser_wrapper.py\u001b[0m in \u001b[0;36m__init__\u001b[0;34m(self, src, **kwds)\u001b[0m\n\u001b[1;32m     49\u001b[0m \u001b[0;34m\u001b[0m\u001b[0m\n\u001b[1;32m     50\u001b[0m         \u001b[0;31m# open handles\u001b[0m\u001b[0;34m\u001b[0m\u001b[0;34m\u001b[0m\u001b[0;34m\u001b[0m\u001b[0m\n\u001b[0;32m---> 51\u001b[0;31m         \u001b[0mself\u001b[0m\u001b[0;34m.\u001b[0m\u001b[0m_open_handles\u001b[0m\u001b[0;34m(\u001b[0m\u001b[0msrc\u001b[0m\u001b[0;34m,\u001b[0m \u001b[0mkwds\u001b[0m\u001b[0;34m)\u001b[0m\u001b[0;34m\u001b[0m\u001b[0;34m\u001b[0m\u001b[0m\n\u001b[0m\u001b[1;32m     52\u001b[0m         \u001b[0;32massert\u001b[0m \u001b[0mself\u001b[0m\u001b[0;34m.\u001b[0m\u001b[0mhandles\u001b[0m \u001b[0;32mis\u001b[0m \u001b[0;32mnot\u001b[0m \u001b[0;32mNone\u001b[0m\u001b[0;34m\u001b[0m\u001b[0;34m\u001b[0m\u001b[0m\n\u001b[1;32m     53\u001b[0m \u001b[0;34m\u001b[0m\u001b[0m\n",
            "\u001b[0;32m/usr/local/lib/python3.7/dist-packages/pandas/io/parsers/base_parser.py\u001b[0m in \u001b[0;36m_open_handles\u001b[0;34m(self, src, kwds)\u001b[0m\n\u001b[1;32m    227\u001b[0m             \u001b[0mmemory_map\u001b[0m\u001b[0;34m=\u001b[0m\u001b[0mkwds\u001b[0m\u001b[0;34m.\u001b[0m\u001b[0mget\u001b[0m\u001b[0;34m(\u001b[0m\u001b[0;34m\"memory_map\"\u001b[0m\u001b[0;34m,\u001b[0m \u001b[0;32mFalse\u001b[0m\u001b[0;34m)\u001b[0m\u001b[0;34m,\u001b[0m\u001b[0;34m\u001b[0m\u001b[0;34m\u001b[0m\u001b[0m\n\u001b[1;32m    228\u001b[0m             \u001b[0mstorage_options\u001b[0m\u001b[0;34m=\u001b[0m\u001b[0mkwds\u001b[0m\u001b[0;34m.\u001b[0m\u001b[0mget\u001b[0m\u001b[0;34m(\u001b[0m\u001b[0;34m\"storage_options\"\u001b[0m\u001b[0;34m,\u001b[0m \u001b[0;32mNone\u001b[0m\u001b[0;34m)\u001b[0m\u001b[0;34m,\u001b[0m\u001b[0;34m\u001b[0m\u001b[0;34m\u001b[0m\u001b[0m\n\u001b[0;32m--> 229\u001b[0;31m             \u001b[0merrors\u001b[0m\u001b[0;34m=\u001b[0m\u001b[0mkwds\u001b[0m\u001b[0;34m.\u001b[0m\u001b[0mget\u001b[0m\u001b[0;34m(\u001b[0m\u001b[0;34m\"encoding_errors\"\u001b[0m\u001b[0;34m,\u001b[0m \u001b[0;34m\"strict\"\u001b[0m\u001b[0;34m)\u001b[0m\u001b[0;34m,\u001b[0m\u001b[0;34m\u001b[0m\u001b[0;34m\u001b[0m\u001b[0m\n\u001b[0m\u001b[1;32m    230\u001b[0m         )\n\u001b[1;32m    231\u001b[0m \u001b[0;34m\u001b[0m\u001b[0m\n",
            "\u001b[0;32m/usr/local/lib/python3.7/dist-packages/pandas/io/common.py\u001b[0m in \u001b[0;36mget_handle\u001b[0;34m(path_or_buf, mode, encoding, compression, memory_map, is_text, errors, storage_options)\u001b[0m\n\u001b[1;32m    612\u001b[0m         \u001b[0mcompression\u001b[0m\u001b[0;34m=\u001b[0m\u001b[0mcompression\u001b[0m\u001b[0;34m,\u001b[0m\u001b[0;34m\u001b[0m\u001b[0;34m\u001b[0m\u001b[0m\n\u001b[1;32m    613\u001b[0m         \u001b[0mmode\u001b[0m\u001b[0;34m=\u001b[0m\u001b[0mmode\u001b[0m\u001b[0;34m,\u001b[0m\u001b[0;34m\u001b[0m\u001b[0;34m\u001b[0m\u001b[0m\n\u001b[0;32m--> 614\u001b[0;31m         \u001b[0mstorage_options\u001b[0m\u001b[0;34m=\u001b[0m\u001b[0mstorage_options\u001b[0m\u001b[0;34m,\u001b[0m\u001b[0;34m\u001b[0m\u001b[0;34m\u001b[0m\u001b[0m\n\u001b[0m\u001b[1;32m    615\u001b[0m     )\n\u001b[1;32m    616\u001b[0m \u001b[0;34m\u001b[0m\u001b[0m\n",
            "\u001b[0;32m/usr/local/lib/python3.7/dist-packages/pandas/io/common.py\u001b[0m in \u001b[0;36m_get_filepath_or_buffer\u001b[0;34m(filepath_or_buffer, encoding, compression, mode, storage_options)\u001b[0m\n\u001b[1;32m    310\u001b[0m         \u001b[0;31m# assuming storage_options is to be interpreted as headers\u001b[0m\u001b[0;34m\u001b[0m\u001b[0;34m\u001b[0m\u001b[0;34m\u001b[0m\u001b[0m\n\u001b[1;32m    311\u001b[0m         \u001b[0mreq_info\u001b[0m \u001b[0;34m=\u001b[0m \u001b[0murllib\u001b[0m\u001b[0;34m.\u001b[0m\u001b[0mrequest\u001b[0m\u001b[0;34m.\u001b[0m\u001b[0mRequest\u001b[0m\u001b[0;34m(\u001b[0m\u001b[0mfilepath_or_buffer\u001b[0m\u001b[0;34m,\u001b[0m \u001b[0mheaders\u001b[0m\u001b[0;34m=\u001b[0m\u001b[0mstorage_options\u001b[0m\u001b[0;34m)\u001b[0m\u001b[0;34m\u001b[0m\u001b[0;34m\u001b[0m\u001b[0m\n\u001b[0;32m--> 312\u001b[0;31m         \u001b[0;32mwith\u001b[0m \u001b[0murlopen\u001b[0m\u001b[0;34m(\u001b[0m\u001b[0mreq_info\u001b[0m\u001b[0;34m)\u001b[0m \u001b[0;32mas\u001b[0m \u001b[0mreq\u001b[0m\u001b[0;34m:\u001b[0m\u001b[0;34m\u001b[0m\u001b[0;34m\u001b[0m\u001b[0m\n\u001b[0m\u001b[1;32m    313\u001b[0m             \u001b[0mcontent_encoding\u001b[0m \u001b[0;34m=\u001b[0m \u001b[0mreq\u001b[0m\u001b[0;34m.\u001b[0m\u001b[0mheaders\u001b[0m\u001b[0;34m.\u001b[0m\u001b[0mget\u001b[0m\u001b[0;34m(\u001b[0m\u001b[0;34m\"Content-Encoding\"\u001b[0m\u001b[0;34m,\u001b[0m \u001b[0;32mNone\u001b[0m\u001b[0;34m)\u001b[0m\u001b[0;34m\u001b[0m\u001b[0;34m\u001b[0m\u001b[0m\n\u001b[1;32m    314\u001b[0m             \u001b[0;32mif\u001b[0m \u001b[0mcontent_encoding\u001b[0m \u001b[0;34m==\u001b[0m \u001b[0;34m\"gzip\"\u001b[0m\u001b[0;34m:\u001b[0m\u001b[0;34m\u001b[0m\u001b[0;34m\u001b[0m\u001b[0m\n",
            "\u001b[0;32m/usr/local/lib/python3.7/dist-packages/pandas/io/common.py\u001b[0m in \u001b[0;36murlopen\u001b[0;34m(*args, **kwargs)\u001b[0m\n\u001b[1;32m    210\u001b[0m     \u001b[0;32mimport\u001b[0m \u001b[0murllib\u001b[0m\u001b[0;34m.\u001b[0m\u001b[0mrequest\u001b[0m\u001b[0;34m\u001b[0m\u001b[0;34m\u001b[0m\u001b[0m\n\u001b[1;32m    211\u001b[0m \u001b[0;34m\u001b[0m\u001b[0m\n\u001b[0;32m--> 212\u001b[0;31m     \u001b[0;32mreturn\u001b[0m \u001b[0murllib\u001b[0m\u001b[0;34m.\u001b[0m\u001b[0mrequest\u001b[0m\u001b[0;34m.\u001b[0m\u001b[0murlopen\u001b[0m\u001b[0;34m(\u001b[0m\u001b[0;34m*\u001b[0m\u001b[0margs\u001b[0m\u001b[0;34m,\u001b[0m \u001b[0;34m**\u001b[0m\u001b[0mkwargs\u001b[0m\u001b[0;34m)\u001b[0m\u001b[0;34m\u001b[0m\u001b[0;34m\u001b[0m\u001b[0m\n\u001b[0m\u001b[1;32m    213\u001b[0m \u001b[0;34m\u001b[0m\u001b[0m\n\u001b[1;32m    214\u001b[0m \u001b[0;34m\u001b[0m\u001b[0m\n",
            "\u001b[0;32m/usr/lib/python3.7/urllib/request.py\u001b[0m in \u001b[0;36murlopen\u001b[0;34m(url, data, timeout, cafile, capath, cadefault, context)\u001b[0m\n\u001b[1;32m    220\u001b[0m     \u001b[0;32melse\u001b[0m\u001b[0;34m:\u001b[0m\u001b[0;34m\u001b[0m\u001b[0;34m\u001b[0m\u001b[0m\n\u001b[1;32m    221\u001b[0m         \u001b[0mopener\u001b[0m \u001b[0;34m=\u001b[0m \u001b[0m_opener\u001b[0m\u001b[0;34m\u001b[0m\u001b[0;34m\u001b[0m\u001b[0m\n\u001b[0;32m--> 222\u001b[0;31m     \u001b[0;32mreturn\u001b[0m \u001b[0mopener\u001b[0m\u001b[0;34m.\u001b[0m\u001b[0mopen\u001b[0m\u001b[0;34m(\u001b[0m\u001b[0murl\u001b[0m\u001b[0;34m,\u001b[0m \u001b[0mdata\u001b[0m\u001b[0;34m,\u001b[0m \u001b[0mtimeout\u001b[0m\u001b[0;34m)\u001b[0m\u001b[0;34m\u001b[0m\u001b[0;34m\u001b[0m\u001b[0m\n\u001b[0m\u001b[1;32m    223\u001b[0m \u001b[0;34m\u001b[0m\u001b[0m\n\u001b[1;32m    224\u001b[0m \u001b[0;32mdef\u001b[0m \u001b[0minstall_opener\u001b[0m\u001b[0;34m(\u001b[0m\u001b[0mopener\u001b[0m\u001b[0;34m)\u001b[0m\u001b[0;34m:\u001b[0m\u001b[0;34m\u001b[0m\u001b[0;34m\u001b[0m\u001b[0m\n",
            "\u001b[0;32m/usr/lib/python3.7/urllib/request.py\u001b[0m in \u001b[0;36mopen\u001b[0;34m(self, fullurl, data, timeout)\u001b[0m\n\u001b[1;32m    529\u001b[0m         \u001b[0;32mfor\u001b[0m \u001b[0mprocessor\u001b[0m \u001b[0;32min\u001b[0m \u001b[0mself\u001b[0m\u001b[0;34m.\u001b[0m\u001b[0mprocess_response\u001b[0m\u001b[0;34m.\u001b[0m\u001b[0mget\u001b[0m\u001b[0;34m(\u001b[0m\u001b[0mprotocol\u001b[0m\u001b[0;34m,\u001b[0m \u001b[0;34m[\u001b[0m\u001b[0;34m]\u001b[0m\u001b[0;34m)\u001b[0m\u001b[0;34m:\u001b[0m\u001b[0;34m\u001b[0m\u001b[0;34m\u001b[0m\u001b[0m\n\u001b[1;32m    530\u001b[0m             \u001b[0mmeth\u001b[0m \u001b[0;34m=\u001b[0m \u001b[0mgetattr\u001b[0m\u001b[0;34m(\u001b[0m\u001b[0mprocessor\u001b[0m\u001b[0;34m,\u001b[0m \u001b[0mmeth_name\u001b[0m\u001b[0;34m)\u001b[0m\u001b[0;34m\u001b[0m\u001b[0;34m\u001b[0m\u001b[0m\n\u001b[0;32m--> 531\u001b[0;31m             \u001b[0mresponse\u001b[0m \u001b[0;34m=\u001b[0m \u001b[0mmeth\u001b[0m\u001b[0;34m(\u001b[0m\u001b[0mreq\u001b[0m\u001b[0;34m,\u001b[0m \u001b[0mresponse\u001b[0m\u001b[0;34m)\u001b[0m\u001b[0;34m\u001b[0m\u001b[0;34m\u001b[0m\u001b[0m\n\u001b[0m\u001b[1;32m    532\u001b[0m \u001b[0;34m\u001b[0m\u001b[0m\n\u001b[1;32m    533\u001b[0m         \u001b[0;32mreturn\u001b[0m \u001b[0mresponse\u001b[0m\u001b[0;34m\u001b[0m\u001b[0;34m\u001b[0m\u001b[0m\n",
            "\u001b[0;32m/usr/lib/python3.7/urllib/request.py\u001b[0m in \u001b[0;36mhttp_response\u001b[0;34m(self, request, response)\u001b[0m\n\u001b[1;32m    639\u001b[0m         \u001b[0;32mif\u001b[0m \u001b[0;32mnot\u001b[0m \u001b[0;34m(\u001b[0m\u001b[0;36m200\u001b[0m \u001b[0;34m<=\u001b[0m \u001b[0mcode\u001b[0m \u001b[0;34m<\u001b[0m \u001b[0;36m300\u001b[0m\u001b[0;34m)\u001b[0m\u001b[0;34m:\u001b[0m\u001b[0;34m\u001b[0m\u001b[0;34m\u001b[0m\u001b[0m\n\u001b[1;32m    640\u001b[0m             response = self.parent.error(\n\u001b[0;32m--> 641\u001b[0;31m                 'http', request, response, code, msg, hdrs)\n\u001b[0m\u001b[1;32m    642\u001b[0m \u001b[0;34m\u001b[0m\u001b[0m\n\u001b[1;32m    643\u001b[0m         \u001b[0;32mreturn\u001b[0m \u001b[0mresponse\u001b[0m\u001b[0;34m\u001b[0m\u001b[0;34m\u001b[0m\u001b[0m\n",
            "\u001b[0;32m/usr/lib/python3.7/urllib/request.py\u001b[0m in \u001b[0;36merror\u001b[0;34m(self, proto, *args)\u001b[0m\n\u001b[1;32m    567\u001b[0m         \u001b[0;32mif\u001b[0m \u001b[0mhttp_err\u001b[0m\u001b[0;34m:\u001b[0m\u001b[0;34m\u001b[0m\u001b[0;34m\u001b[0m\u001b[0m\n\u001b[1;32m    568\u001b[0m             \u001b[0margs\u001b[0m \u001b[0;34m=\u001b[0m \u001b[0;34m(\u001b[0m\u001b[0mdict\u001b[0m\u001b[0;34m,\u001b[0m \u001b[0;34m'default'\u001b[0m\u001b[0;34m,\u001b[0m \u001b[0;34m'http_error_default'\u001b[0m\u001b[0;34m)\u001b[0m \u001b[0;34m+\u001b[0m \u001b[0morig_args\u001b[0m\u001b[0;34m\u001b[0m\u001b[0;34m\u001b[0m\u001b[0m\n\u001b[0;32m--> 569\u001b[0;31m             \u001b[0;32mreturn\u001b[0m \u001b[0mself\u001b[0m\u001b[0;34m.\u001b[0m\u001b[0m_call_chain\u001b[0m\u001b[0;34m(\u001b[0m\u001b[0;34m*\u001b[0m\u001b[0margs\u001b[0m\u001b[0;34m)\u001b[0m\u001b[0;34m\u001b[0m\u001b[0;34m\u001b[0m\u001b[0m\n\u001b[0m\u001b[1;32m    570\u001b[0m \u001b[0;34m\u001b[0m\u001b[0m\n\u001b[1;32m    571\u001b[0m \u001b[0;31m# XXX probably also want an abstract factory that knows when it makes\u001b[0m\u001b[0;34m\u001b[0m\u001b[0;34m\u001b[0m\u001b[0;34m\u001b[0m\u001b[0m\n",
            "\u001b[0;32m/usr/lib/python3.7/urllib/request.py\u001b[0m in \u001b[0;36m_call_chain\u001b[0;34m(self, chain, kind, meth_name, *args)\u001b[0m\n\u001b[1;32m    501\u001b[0m         \u001b[0;32mfor\u001b[0m \u001b[0mhandler\u001b[0m \u001b[0;32min\u001b[0m \u001b[0mhandlers\u001b[0m\u001b[0;34m:\u001b[0m\u001b[0;34m\u001b[0m\u001b[0;34m\u001b[0m\u001b[0m\n\u001b[1;32m    502\u001b[0m             \u001b[0mfunc\u001b[0m \u001b[0;34m=\u001b[0m \u001b[0mgetattr\u001b[0m\u001b[0;34m(\u001b[0m\u001b[0mhandler\u001b[0m\u001b[0;34m,\u001b[0m \u001b[0mmeth_name\u001b[0m\u001b[0;34m)\u001b[0m\u001b[0;34m\u001b[0m\u001b[0;34m\u001b[0m\u001b[0m\n\u001b[0;32m--> 503\u001b[0;31m             \u001b[0mresult\u001b[0m \u001b[0;34m=\u001b[0m \u001b[0mfunc\u001b[0m\u001b[0;34m(\u001b[0m\u001b[0;34m*\u001b[0m\u001b[0margs\u001b[0m\u001b[0;34m)\u001b[0m\u001b[0;34m\u001b[0m\u001b[0;34m\u001b[0m\u001b[0m\n\u001b[0m\u001b[1;32m    504\u001b[0m             \u001b[0;32mif\u001b[0m \u001b[0mresult\u001b[0m \u001b[0;32mis\u001b[0m \u001b[0;32mnot\u001b[0m \u001b[0;32mNone\u001b[0m\u001b[0;34m:\u001b[0m\u001b[0;34m\u001b[0m\u001b[0;34m\u001b[0m\u001b[0m\n\u001b[1;32m    505\u001b[0m                 \u001b[0;32mreturn\u001b[0m \u001b[0mresult\u001b[0m\u001b[0;34m\u001b[0m\u001b[0;34m\u001b[0m\u001b[0m\n",
            "\u001b[0;32m/usr/lib/python3.7/urllib/request.py\u001b[0m in \u001b[0;36mhttp_error_default\u001b[0;34m(self, req, fp, code, msg, hdrs)\u001b[0m\n\u001b[1;32m    647\u001b[0m \u001b[0;32mclass\u001b[0m \u001b[0mHTTPDefaultErrorHandler\u001b[0m\u001b[0;34m(\u001b[0m\u001b[0mBaseHandler\u001b[0m\u001b[0;34m)\u001b[0m\u001b[0;34m:\u001b[0m\u001b[0;34m\u001b[0m\u001b[0;34m\u001b[0m\u001b[0m\n\u001b[1;32m    648\u001b[0m     \u001b[0;32mdef\u001b[0m \u001b[0mhttp_error_default\u001b[0m\u001b[0;34m(\u001b[0m\u001b[0mself\u001b[0m\u001b[0;34m,\u001b[0m \u001b[0mreq\u001b[0m\u001b[0;34m,\u001b[0m \u001b[0mfp\u001b[0m\u001b[0;34m,\u001b[0m \u001b[0mcode\u001b[0m\u001b[0;34m,\u001b[0m \u001b[0mmsg\u001b[0m\u001b[0;34m,\u001b[0m \u001b[0mhdrs\u001b[0m\u001b[0;34m)\u001b[0m\u001b[0;34m:\u001b[0m\u001b[0;34m\u001b[0m\u001b[0;34m\u001b[0m\u001b[0m\n\u001b[0;32m--> 649\u001b[0;31m         \u001b[0;32mraise\u001b[0m \u001b[0mHTTPError\u001b[0m\u001b[0;34m(\u001b[0m\u001b[0mreq\u001b[0m\u001b[0;34m.\u001b[0m\u001b[0mfull_url\u001b[0m\u001b[0;34m,\u001b[0m \u001b[0mcode\u001b[0m\u001b[0;34m,\u001b[0m \u001b[0mmsg\u001b[0m\u001b[0;34m,\u001b[0m \u001b[0mhdrs\u001b[0m\u001b[0;34m,\u001b[0m \u001b[0mfp\u001b[0m\u001b[0;34m)\u001b[0m\u001b[0;34m\u001b[0m\u001b[0;34m\u001b[0m\u001b[0m\n\u001b[0m\u001b[1;32m    650\u001b[0m \u001b[0;34m\u001b[0m\u001b[0m\n\u001b[1;32m    651\u001b[0m \u001b[0;32mclass\u001b[0m \u001b[0mHTTPRedirectHandler\u001b[0m\u001b[0;34m(\u001b[0m\u001b[0mBaseHandler\u001b[0m\u001b[0;34m)\u001b[0m\u001b[0;34m:\u001b[0m\u001b[0;34m\u001b[0m\u001b[0;34m\u001b[0m\u001b[0m\n",
            "\u001b[0;31mHTTPError\u001b[0m: HTTP Error 404: Not Found"
          ]
        }
      ]
    },
    {
      "cell_type": "markdown",
      "source": [
        "# a. Exploratory Data Analysis (EDA)"
      ],
      "metadata": {
        "id": "IhRYDJsvfFNP"
      }
    },
    {
      "cell_type": "code",
      "source": [
        "# Data distribution based on country\n",
        "data_per_negara = dataset.groupby(\"Country\").count()\n",
        "data_per_negara"
      ],
      "metadata": {
        "id": "1AwqPhQME0EY"
      },
      "execution_count": null,
      "outputs": []
    },
    {
      "cell_type": "code",
      "source": [
        "# Five earliest data sort by Date\n",
        "data = dataset.sort_values(by=\"Date\")\n",
        "data.head()"
      ],
      "metadata": {
        "id": "K7tqHvvEIIQi"
      },
      "execution_count": null,
      "outputs": []
    },
    {
      "cell_type": "code",
      "source": [
        "# Five latest data after sorted by Date\n",
        "data.tail()"
      ],
      "metadata": {
        "id": "zzfZF7wlIOd9"
      },
      "execution_count": null,
      "outputs": []
    },
    {
      "cell_type": "code",
      "source": [
        "# Describing descriptive statistic on Percent of Baseline\n",
        "data.describe()"
      ],
      "metadata": {
        "id": "gSLPKQQkNLkv"
      },
      "execution_count": null,
      "outputs": []
    },
    {
      "cell_type": "code",
      "source": [
        "# Feature selection -> get data needed\n",
        "data = dataset.drop(['AggregationMethod', 'Version', 'ISO_3166_2', 'Geography', 'Centroid', 'State', 'City'], \n",
        "                         axis=1)\n",
        "data = data.sort_values(by=\"Date\")\n",
        "data.head()"
      ],
      "metadata": {
        "id": "nezt4q41I1Id"
      },
      "execution_count": null,
      "outputs": []
    },
    {
      "cell_type": "code",
      "source": [
        "# Creating DataFrame based on country\n",
        "data_per_negara = data.groupby('Country')\n",
        "australia = data_per_negara.get_group('Australia')\n",
        "canada = data_per_negara.get_group('Canada')\n",
        "chile = data_per_negara.get_group('Chile')\n",
        "us  = data_per_negara.get_group('United States of America (the)')"
      ],
      "metadata": {
        "id": "PBoT5rktNcil"
      },
      "execution_count": null,
      "outputs": []
    },
    {
      "cell_type": "markdown",
      "source": [
        "Visualization Percent of Baseline based on country and date"
      ],
      "metadata": {
        "id": "cgL-ocAIgzxv"
      }
    },
    {
      "cell_type": "code",
      "source": [
        "# Visualization by country\n",
        "australia.plot(title='Australia')\n",
        "canada.plot(title='Canada')\n",
        "chile.plot(title='Chile')\n",
        "us.plot(title='US')"
      ],
      "metadata": {
        "id": "I5V39Leogjk4"
      },
      "execution_count": null,
      "outputs": []
    },
    {
      "cell_type": "markdown",
      "source": [
        "# b. Time-Series Analysis"
      ],
      "metadata": {
        "id": "2kfsephPhHrd"
      }
    },
    {
      "cell_type": "code",
      "source": [
        "# Percent of Baseline per-country\n",
        "baseline_au = australia.PercentOfBaseline.sort_index()\n",
        "baseline_ca = canada.PercentOfBaseline.sort_index()\n",
        "baseline_cl = chile.PercentOfBaseline.sort_index()\n",
        "baseline_us = us.PercentOfBaseline.sort_index()"
      ],
      "metadata": {
        "id": "0wBjWoMMhId6"
      },
      "execution_count": null,
      "outputs": []
    },
    {
      "cell_type": "code",
      "source": [
        "start = pd.to_datetime('2020-03-16')\n",
        "end = pd.to_datetime('2020-12-02')\n",
        "baseline_au = baseline_au[start:end]\n",
        "print('Sample of Time Series Data (Australia):')\n",
        "baseline_au.head()"
      ],
      "metadata": {
        "id": "KSdUf7q1hBlT"
      },
      "execution_count": null,
      "outputs": []
    },
    {
      "cell_type": "code",
      "source": [
        "start = pd.to_datetime('2020-03-16')\n",
        "end = pd.to_datetime('2020-12-02')\n",
        "baseline_ca = baseline_ca[start:end]\n",
        "print('Sample of Time Series Data (Canada):')\n",
        "baseline_ca.head()"
      ],
      "metadata": {
        "id": "IKIxsMrknRBY"
      },
      "execution_count": null,
      "outputs": []
    },
    {
      "cell_type": "code",
      "source": [
        "start = pd.to_datetime('2020-03-16')\n",
        "end = pd.to_datetime('2020-12-02')\n",
        "baseline_cl = baseline_cl[start:end]\n",
        "print('Sample of Time Series Data (Chile):')\n",
        "baseline_cl.head()"
      ],
      "metadata": {
        "id": "JP15jFEXuda8"
      },
      "execution_count": null,
      "outputs": []
    },
    {
      "cell_type": "code",
      "source": [
        "start = pd.to_datetime('2020-03-16')\n",
        "end = pd.to_datetime('2020-12-02')\n",
        "baseline_us = baseline_us[start:end]\n",
        "print('Sample of Time Series Data (US):')\n",
        "baseline_us.head()"
      ],
      "metadata": {
        "id": "ycoXvcAiuiJf"
      },
      "execution_count": null,
      "outputs": []
    },
    {
      "cell_type": "markdown",
      "source": [
        "Plotting Time-Series"
      ],
      "metadata": {
        "id": "lZmGiOiCv52v"
      }
    },
    {
      "cell_type": "code",
      "source": [
        "# Plotting time series\n",
        "# Australia\n",
        "plt.figure(figsize=(15, 8))\n",
        "plt.plot(baseline_au, color='blue')\n",
        "plt.title('Percent of Baseline of Australia', weight='bold', fontsize=15)\n",
        "plt.xlabel('Date', fontsize=14)\n",
        "plt.ylabel('Percent of Baseline', fontsize=14)\n",
        "plt.xticks(weight='bold', fontsize=12, rotation=45)\n",
        "plt.yticks(weight='bold', fontsize=12)\n",
        "plt.grid(color = 'y', linewidth = 0.5)"
      ],
      "metadata": {
        "id": "lYLDDVQUunji"
      },
      "execution_count": null,
      "outputs": []
    },
    {
      "cell_type": "code",
      "source": [
        "# Canada\n",
        "plt.figure(figsize=(15, 8))\n",
        "plt.plot(baseline_ca, color='blue')\n",
        "plt.title('Percent of Baseline of Canada', weight='bold', fontsize=15)\n",
        "plt.xlabel('Date', fontsize=14)\n",
        "plt.ylabel('Percent of Baseline', fontsize=14)\n",
        "plt.xticks(weight='bold', fontsize=12, rotation=45)\n",
        "plt.yticks(weight='bold', fontsize=12)\n",
        "plt.grid(color = 'y', linewidth = 0.5)"
      ],
      "metadata": {
        "id": "h9n7MY_-vttJ"
      },
      "execution_count": null,
      "outputs": []
    },
    {
      "cell_type": "code",
      "source": [
        "# Chile\n",
        "plt.figure(figsize=(15, 8))\n",
        "plt.plot(baseline_cl, color='blue')\n",
        "plt.title('Percent of Baseline of Chile', weight='bold', fontsize=15)\n",
        "plt.xlabel('Date', fontsize=14)\n",
        "plt.ylabel('Percent of Baseline', fontsize=14)\n",
        "plt.xticks(weight='bold', fontsize=12, rotation=45)\n",
        "plt.yticks(weight='bold', fontsize=12)\n",
        "plt.grid(color = 'y', linewidth = 0.5)"
      ],
      "metadata": {
        "id": "xe4jtHV9wITq"
      },
      "execution_count": null,
      "outputs": []
    },
    {
      "cell_type": "code",
      "source": [
        "# US\n",
        "plt.figure(figsize=(15, 8))\n",
        "plt.plot(baseline_us, color='blue')\n",
        "plt.title('Percent of Baseline of US', weight='bold', fontsize=15)\n",
        "plt.xlabel('Date', fontsize=14)\n",
        "plt.ylabel('Percent of Baseline', fontsize=14)\n",
        "plt.xticks(weight='bold', fontsize=12, rotation=45)\n",
        "plt.yticks(weight='bold', fontsize=12)\n",
        "plt.grid(color = 'y', linewidth = 0.5)"
      ],
      "metadata": {
        "id": "suBjxlmAwRep"
      },
      "execution_count": null,
      "outputs": []
    },
    {
      "cell_type": "markdown",
      "source": [
        "# c. Replacing Missing Data with Estimated Value"
      ],
      "metadata": {
        "id": "Ezji0zufwgv-"
      }
    },
    {
      "cell_type": "code",
      "source": [
        "# Australia\n",
        "range = pd.date_range(start='2020-03-16', end='2020-12-02', freq='D')\n",
        "ts = baseline_au.index\n",
        "diff_dates = range.difference(ts)\n",
        "\n",
        "td = pd.Timedelta(1, 'd') # 1 day\n",
        "for date in diff_dates:\n",
        "  prev_val = baseline_au[date-td] # Take earlier value\n",
        "  baseline_au[date] = prev_val # Throw earlier value\n",
        "\n",
        "baseline_au.sort_index(inplace=True)\n",
        "# Set time index frequency as daily\n",
        "baseline_au.freq=\"D\""
      ],
      "metadata": {
        "id": "d0TBM_qlwtvj"
      },
      "execution_count": null,
      "outputs": []
    },
    {
      "cell_type": "code",
      "source": [
        "# Canada\n",
        "range = pd.date_range(start='2020-03-16', end='2020-12-02', freq='D')\n",
        "ts = baseline_ca.index\n",
        "diff_dates = range.difference(ts)\n",
        "\n",
        "td = pd.Timedelta(1, 'd') # 1 day\n",
        "for date in diff_dates:\n",
        "  prev_val = baseline_ca[date-td] # Take earlier value\n",
        "  baseline_ca[date] = prev_val # Throw earlier value\n",
        "\n",
        "baseline_ca.sort_index(inplace=True)\n",
        "# Set time index frequency as daily\n",
        "baseline_ca.freq=\"D\""
      ],
      "metadata": {
        "id": "JKDfVekLxFYl"
      },
      "execution_count": null,
      "outputs": []
    },
    {
      "cell_type": "code",
      "source": [
        "# Chile\n",
        "range = pd.date_range(start='2020-03-16', end='2020-12-02', freq='D')\n",
        "ts = baseline_cl.index\n",
        "diff_dates = range.difference(ts)\n",
        "\n",
        "td = pd.Timedelta(1, 'd') # 1 day\n",
        "for date in diff_dates:\n",
        "  prev_val = baseline_cl[date-td] # Take earlier value\n",
        "  baseline_cl[date] = prev_val # Throw earlier value\n",
        "\n",
        "baseline_cl.sort_index(inplace=True)\n",
        "# Set time index frequency as daily\n",
        "baseline_cl.freq=\"D\""
      ],
      "metadata": {
        "id": "m3z03T5-xsEF"
      },
      "execution_count": null,
      "outputs": []
    },
    {
      "cell_type": "code",
      "source": [
        "# US\n",
        "range = pd.date_range(start='2020-03-16', end='2020-12-02', freq='D')\n",
        "ts = baseline_us.index\n",
        "diff_dates = range.difference(ts)\n",
        "\n",
        "td = pd.Timedelta(1, 'd') # 1 day\n",
        "for date in diff_dates:\n",
        "  prev_val = baseline_us[date-td] # Take earlier value\n",
        "  baseline_us[date] = prev_val # Throw earlier value\n",
        "\n",
        "baseline_us.sort_index(inplace=True)\n",
        "# Set time index frequency as daily\n",
        "baseline_us.freq=\"D\""
      ],
      "metadata": {
        "id": "V_5BwPqyx32q"
      },
      "execution_count": null,
      "outputs": []
    },
    {
      "cell_type": "markdown",
      "source": [
        "# d. Split Data for Training and **Testing**"
      ],
      "metadata": {
        "id": "8IH1GuW0yHaw"
      }
    },
    {
      "cell_type": "markdown",
      "source": [
        "**Australia**"
      ],
      "metadata": {
        "id": "5bOhXnCMygkm"
      }
    },
    {
      "cell_type": "code",
      "source": [
        "# We use 80% of data Percent of Baseline for train data, 20% for test data\n",
        "split_time = int(0.8 * len(baseline_au))\n",
        "\n",
        "train_au = baseline_au[:split_time]\n",
        "test_au = baseline_au[split_time:]"
      ],
      "metadata": {
        "id": "38UACrxQx9nN"
      },
      "execution_count": null,
      "outputs": []
    },
    {
      "cell_type": "code",
      "source": [
        "# Display a plot of train and test split\n",
        "fig = plt.figure(figsize=(20,8))\n",
        "plt.plot(train_au, color='blue', label='Training')\n",
        "plt.plot(test_au, color='red', label='Testing')\n",
        "plt.xlabel('Date')\n",
        "plt.ylabel('Percent of Baseline')\n",
        "plt.title('Australia')\n",
        "plt.legend()\n",
        "plt.show()"
      ],
      "metadata": {
        "id": "yMHaAJpyykQX"
      },
      "execution_count": null,
      "outputs": []
    },
    {
      "cell_type": "markdown",
      "source": [
        "**Canada**"
      ],
      "metadata": {
        "id": "9XD81H4Py9tP"
      }
    },
    {
      "cell_type": "code",
      "source": [
        "# We use 80% of data Percent of Baseline for train data, 20% for test data\n",
        "split_time = int(0.8 * len(baseline_ca))\n",
        "\n",
        "train_ca = baseline_ca[:split_time]\n",
        "test_ca= baseline_ca[split_time:]"
      ],
      "metadata": {
        "id": "_2JXVLl2yrFZ"
      },
      "execution_count": null,
      "outputs": []
    },
    {
      "cell_type": "code",
      "source": [
        "# Display a plot of train and test split\n",
        "fig = plt.figure(figsize=(20,8))\n",
        "plt.plot(train_ca, color='blue', label='Training')\n",
        "plt.plot(test_ca, color='red', label='Testing')\n",
        "plt.xlabel('Date')\n",
        "plt.ylabel('Percent of Baseline')\n",
        "plt.title('Canada')\n",
        "plt.legend()\n",
        "plt.show()"
      ],
      "metadata": {
        "id": "V4LacEglzCbj"
      },
      "execution_count": null,
      "outputs": []
    },
    {
      "cell_type": "markdown",
      "source": [
        "**Chile**"
      ],
      "metadata": {
        "id": "SItTZF2AzHTw"
      }
    },
    {
      "cell_type": "code",
      "source": [
        "# We use 80% of data Percent of Baseline for train data, 20% for test data\n",
        "split_time = int(0.8 * len(baseline_cl))\n",
        "\n",
        "train_cl = baseline_cl[:split_time]\n",
        "test_cl = baseline_cl[split_time:]"
      ],
      "metadata": {
        "id": "LgyQZthzzFQm"
      },
      "execution_count": null,
      "outputs": []
    },
    {
      "cell_type": "code",
      "source": [
        "# Display a plot of train and test split\n",
        "fig = plt.figure(figsize=(20,8))\n",
        "plt.plot(train_cl, color='blue', label='Training')\n",
        "plt.plot(test_cl, color='red', label='Testing')\n",
        "plt.xlabel('Date')\n",
        "plt.ylabel('Percent of Baseline')\n",
        "plt.title('Chile')\n",
        "plt.legend()\n",
        "plt.show()"
      ],
      "metadata": {
        "id": "NU8v6dNGzJ6T"
      },
      "execution_count": null,
      "outputs": []
    },
    {
      "cell_type": "markdown",
      "source": [
        "**US**"
      ],
      "metadata": {
        "id": "i1IxC0_tzSoV"
      }
    },
    {
      "cell_type": "code",
      "source": [
        "# We use 80% of data Percent of Baseline for train data, 20% for test data\n",
        "split_time = int(0.8 * len(baseline_us))\n",
        "\n",
        "train_us = baseline_us[:split_time]\n",
        "test_us = baseline_us[split_time:]"
      ],
      "metadata": {
        "id": "5KidSmLlzLsR"
      },
      "execution_count": null,
      "outputs": []
    },
    {
      "cell_type": "code",
      "source": [
        "# Display a plot of train and test split\n",
        "fig = plt.figure(figsize=(20,8))\n",
        "plt.plot(train_us, color='blue', label='Training')\n",
        "plt.plot(test_us, color='red', label='Testing')\n",
        "plt.xlabel('Date')\n",
        "plt.ylabel('Percent of Baseline')\n",
        "plt.title('Chile')\n",
        "plt.legend()\n",
        "plt.show()"
      ],
      "metadata": {
        "id": "3eCCKhg6zXnc"
      },
      "execution_count": null,
      "outputs": []
    },
    {
      "cell_type": "markdown",
      "source": [
        "# e. Window Dataset"
      ],
      "metadata": {
        "id": "7EtH31UGz0w5"
      }
    },
    {
      "cell_type": "code",
      "source": [
        "# Australia\n",
        "# Creates a windowed dataset\n",
        "WINDOW = 15 \n",
        "\n",
        "train_data_au = tf.data.Dataset.from_tensor_slices(train_au.values) # convert to TensorSliceDataset\n",
        "train_data_au = train_data_au.window(WINDOW+1, shift=1, drop_remainder=True) # takes window size+1\n",
        "train_data_au = train_data_au.flat_map(lambda x: x.batch(WINDOW+1)) # flattens windowed data\n",
        "train_data_au = train_data_au.map(lambda x: (x[:-1], x[-1])) # creates features and target tuple\n",
        "\n",
        "train_data_au = train_data_au.shuffle(1_000) # shuffles dataset Australia\n",
        "\n",
        "train_data_au = train_data_au.batch(32).prefetch(1) # creates batches of windows"
      ],
      "metadata": {
        "id": "DgiTX11Szu4k"
      },
      "execution_count": null,
      "outputs": []
    },
    {
      "cell_type": "code",
      "source": [
        "# Canada\n",
        "# Creates a windowed dataset\n",
        "WINDOW = 15 \n",
        "\n",
        "train_data_ca = tf.data.Dataset.from_tensor_slices(train_ca.values) # convert to TensorSliceDataset\n",
        "train_data_ca = train_data_ca.window(WINDOW+1, shift=1, drop_remainder=True) # takes window size+1\n",
        "train_data_ca = train_data_ca.flat_map(lambda x: x.batch(WINDOW+1)) # flattens windowed data\n",
        "train_data_ca = train_data_ca.map(lambda x: (x[:-1], x[-1])) # creates features and target tuple\n",
        "\n",
        "train_data_ca = train_data_ca.shuffle(1_000) # shuffles dataset Canada\n",
        "\n",
        "train_data_ca = train_data_ca.batch(32).prefetch(1) # creates batches of windows"
      ],
      "metadata": {
        "id": "ugxVvaJd2VbD"
      },
      "execution_count": null,
      "outputs": []
    },
    {
      "cell_type": "code",
      "source": [
        "# Chile\n",
        "# Creates a windowed dataset\n",
        "WINDOW = 15 \n",
        "\n",
        "train_data_cl = tf.data.Dataset.from_tensor_slices(train_cl.values) # convert to TensorSliceDataset\n",
        "train_data_cl = train_data_cl.window(WINDOW+1, shift=1, drop_remainder=True) # takes window size+1\n",
        "train_data_cl = train_data_cl.flat_map(lambda x: x.batch(WINDOW+1)) # flattens windowed data\n",
        "train_data_cl = train_data_cl.map(lambda x: (x[:-1], x[-1])) # creates features and target tuple\n",
        "\n",
        "train_data_cl = train_data_cl.shuffle(1_000) # shuffles dataset Chile\n",
        "\n",
        "train_data_cl = train_data_cl.batch(32).prefetch(1) # creates batches of windows"
      ],
      "metadata": {
        "id": "Jg4d-0io2u_L"
      },
      "execution_count": null,
      "outputs": []
    },
    {
      "cell_type": "code",
      "source": [
        "# US\n",
        "# Creates a windowed dataset\n",
        "WINDOW = 15 \n",
        "\n",
        "train_data_us = tf.data.Dataset.from_tensor_slices(train_us.values) # convert to TensorSliceDataset\n",
        "train_data_us = train_data_us.window(WINDOW+1, shift=1, drop_remainder=True) # takes window size+1\n",
        "train_data_us = train_data_us.flat_map(lambda x: x.batch(WINDOW+1)) # flattens windowed data\n",
        "train_data_us = train_data_us.map(lambda x: (x[:-1], x[-1])) # creates features and target tuple\n",
        "\n",
        "train_data_us = train_data_us.shuffle(1_000) # shuffles dataset US\n",
        "\n",
        "train_data_us = train_data_us.batch(32).prefetch(1) # creates batches of windows"
      ],
      "metadata": {
        "id": "NbrRjNyV28YZ"
      },
      "execution_count": null,
      "outputs": []
    },
    {
      "cell_type": "markdown",
      "source": [
        "# f. Callback"
      ],
      "metadata": {
        "id": "uh-mqnVX3Tle"
      }
    },
    {
      "cell_type": "code",
      "source": [
        "from tensorflow.keras.callbacks import Callback\n",
        "\n",
        "class CustomCallback(Callback):\n",
        "    def on_epoch_end(self, epoch, logs={}):\n",
        "        if logs.get('mae') < 10.0:\n",
        "            print(\"MAE under 10.0... Stopping training\")\n",
        "            self.model.stop_training = True\n",
        "\n",
        "my_callback = CustomCallback()"
      ],
      "metadata": {
        "id": "c-RJyivA1XdN"
      },
      "execution_count": null,
      "outputs": []
    },
    {
      "cell_type": "code",
      "source": [
        "from tensorflow.keras.callbacks import LearningRateScheduler\n",
        "\n",
        "#creates a function that updates the learning rate based on the epoch number\n",
        "def scheduler(epoch, lr):\n",
        "    if epoch < 2:\n",
        "        return 0.01\n",
        "    else:\n",
        "        return lr * 0.99\n",
        "\n",
        "lr_scheduler = LearningRateScheduler(scheduler)"
      ],
      "metadata": {
        "id": "ieb4b5tA2BR0"
      },
      "execution_count": null,
      "outputs": []
    },
    {
      "cell_type": "markdown",
      "source": [
        "# g. Build the Model"
      ],
      "metadata": {
        "id": "inmqKLmV2IYe"
      }
    },
    {
      "cell_type": "markdown",
      "source": [
        "**Australia**"
      ],
      "metadata": {
        "id": "1u0DberG41d-"
      }
    },
    {
      "cell_type": "code",
      "source": [
        "from tensorflow.keras.models import Sequential\n",
        "from tensorflow.keras.layers import Conv1D, Dense, LSTM, Dropout, Lambda, Bidirectional\n",
        "from tensorflow.keras.optimizers import Adam\n",
        "from tensorflow.keras.losses import Huber\n",
        "\n",
        "mixed_model = Sequential([\n",
        "    # add extra axis to input data\n",
        "    Lambda(lambda x: tf.expand_dims(x, axis=-1), input_shape=[WINDOW]), Conv1D(filters=64, kernel_size=3, strides=1,\n",
        "           padding='causal', activation='relu'),\n",
        "    Bidirectional(LSTM(128, return_sequences=True)),\n",
        "    Bidirectional(LSTM(128)),\n",
        "    Dropout(0.3),\n",
        "    Dense(512, activation='relu'),\n",
        "    Dropout(0.4),\n",
        "    Dense(1)\n",
        "])"
      ],
      "metadata": {
        "id": "WWmUmR2-2FHu"
      },
      "execution_count": null,
      "outputs": []
    },
    {
      "cell_type": "code",
      "source": [
        "mixed_model.compile(\n",
        "    loss=Huber(),\n",
        "    optimizer=Adam(),\n",
        "    metrics=['mae']\n",
        ")\n",
        "\n",
        "mixed_model.summary()"
      ],
      "metadata": {
        "id": "pS4N58rS4OIZ"
      },
      "execution_count": null,
      "outputs": []
    },
    {
      "cell_type": "code",
      "source": [
        "#Trains Mixed Model\n",
        "mixed_history = mixed_model.fit(\n",
        "    train_data_au,\n",
        "    epochs=30,\n",
        "    callbacks=[lr_scheduler, my_callback],\n",
        "    verbose=0\n",
        ")"
      ],
      "metadata": {
        "id": "hGWkwbEx4PVb"
      },
      "execution_count": 240,
      "outputs": []
    },
    {
      "cell_type": "code",
      "source": [
        "# Plots training history\n",
        "# Plots history of model training\n",
        "plt.rcParams[\"figure.figsize\"] = (15,5)\n",
        "fig, axs = plt.subplots(1, 2)\n",
        "\n",
        "axs[0].plot(mixed_history.history['loss'], color='red')\n",
        "axs[0].set_xlabel('Epoch')\n",
        "axs[0].set_ylabel('Loss')\n",
        "axs[0].set_title('Training Loss')\n",
        "\n",
        "axs[1].plot(mixed_history.history['mae'])\n",
        "axs[1].set_xlabel('Epoch')\n",
        "axs[1].set_ylabel('MAE')\n",
        "axs[1].set_title('Training MAE')\n",
        "\n",
        "fig.text(0.425,1, 'MIXED MODEL', {'size':25})\n",
        "plt.show()\n",
        "\n",
        "print(\"\\t\\t\\t\\t\\tFINAL LOSS: {} | FINAL MAE: {}\".format(\n",
        "                                                round(mixed_history.history['loss'][-1], 2),\n",
        "                                                 round(mixed_history.history['mae'][-1], 2)))\n"
      ],
      "metadata": {
        "id": "QVZYR6z34SEC",
        "outputId": "373a82db-1ea1-48bf-b238-ee86f1f43f70",
        "colab": {
          "base_uri": "https://localhost:8080/",
          "height": 419
        }
      },
      "execution_count": 246,
      "outputs": [
        {
          "output_type": "display_data",
          "data": {
            "text/plain": [
              "<Figure size 1080x360 with 2 Axes>"
            ],
            "image/png": "[encoded data removed]"
          },
          "metadata": {}
        },
        {
          "output_type": "stream",
          "name": "stdout",
          "text": [
            "\t\t\t\t\tFINAL LOSS: 9.16 | FINAL MAE: 9.66\n"
          ]
        }
      ]
    },
    {
      "cell_type": "markdown",
      "source": [
        "**Canada**"
      ],
      "metadata": {
        "id": "lyFpw59e5o3y"
      }
    },
    {
      "cell_type": "code",
      "source": [
        "mixed_model = Sequential([\n",
        "    # add extra axis to input data\n",
        "    Lambda(lambda x: tf.expand_dims(x, axis=-1), input_shape=[WINDOW]), Conv1D(filters=64, kernel_size=3, strides=1,\n",
        "           padding='causal', activation='relu'),\n",
        "    Bidirectional(LSTM(128, return_sequences=True)),\n",
        "    Bidirectional(LSTM(128)),\n",
        "    Dropout(0.3),\n",
        "    Dense(512, activation='relu'),\n",
        "    Dropout(0.4),\n",
        "    Dense(1)\n",
        "])"
      ],
      "metadata": {
        "id": "JpPQsdIe5qec"
      },
      "execution_count": null,
      "outputs": []
    },
    {
      "cell_type": "code",
      "source": [
        "mixed_model.compile(\n",
        "    loss=Huber(),\n",
        "    optimizer=Adam(),\n",
        "    metrics=['mae']\n",
        ")\n",
        "\n",
        "mixed_model.summary()"
      ],
      "metadata": {
        "id": "XbiDzWw1509C"
      },
      "execution_count": null,
      "outputs": []
    },
    {
      "cell_type": "code",
      "source": [
        "#Trains Mixed Model\n",
        "mixed_history = mixed_model.fit(\n",
        "    train_data_ca,\n",
        "    epochs=100,\n",
        "    callbacks=[lr_scheduler, my_callback],\n",
        "    verbose=0\n",
        ")"
      ],
      "metadata": {
        "id": "YaGgFoJv55Kl"
      },
      "execution_count": null,
      "outputs": []
    },
    {
      "cell_type": "code",
      "source": [
        "# Plots training history\n",
        "# Plots history of model training\n",
        "plt.rcParams[\"figure.figsize\"] = (15,5)\n",
        "fig, axs = plt.subplots(1, 2)\n",
        "\n",
        "axs[0].plot(mixed_history.history['loss'], color='red')\n",
        "axs[0].set_xlabel('Epoch')\n",
        "axs[0].set_ylabel('Loss')\n",
        "axs[0].set_title('Training Loss')\n",
        "\n",
        "axs[1].plot(mixed_history.history['mae'])\n",
        "axs[1].set_xlabel('Epoch')\n",
        "axs[1].set_ylabel('MAE')\n",
        "axs[1].set_title('Training MAE')\n",
        "\n",
        "fig.text(0.425,1, 'MIXED MODEL', {'size':25})\n",
        "plt.show()\n",
        "\n",
        "print(\"\\t\\t\\t\\t\\tFINAL LOSS: {} | FINAL MAE: {}\".format(\n",
        "                                                round(mixed_history.history['loss'][-1], 2),\n",
        "                                                 round(mixed_history.history['mae'][-1], 2)))\n"
      ],
      "metadata": {
        "id": "SBNcqaHK58dp",
        "outputId": "408d3e29-9697-4898-f30e-a3122bf11157",
        "colab": {
          "base_uri": "https://localhost:8080/",
          "height": 419
        }
      },
      "execution_count": 247,
      "outputs": [
        {
          "output_type": "display_data",
          "data": {
            "text/plain": [
              "<Figure size 1080x360 with 2 Axes>"
            ],
            "image/png": "[encoded data removed]"
          },
          "metadata": {}
        },
        {
          "output_type": "stream",
          "name": "stdout",
          "text": [
            "\t\t\t\t\tFINAL LOSS: 9.16 | FINAL MAE: 9.66\n"
          ]
        }
      ]
    },
    {
      "cell_type": "markdown",
      "source": [
        "**Chile**"
      ],
      "metadata": {
        "id": "GfYdoWt_75u0"
      }
    },
    {
      "cell_type": "code",
      "source": [
        "mixed_model = Sequential([\n",
        "    # add extra axis to input data\n",
        "    Lambda(lambda x: tf.expand_dims(x, axis=-1), input_shape=[WINDOW]), Conv1D(filters=64, kernel_size=3, strides=1,\n",
        "           padding='causal', activation='relu'),\n",
        "    Bidirectional(LSTM(128, return_sequences=True)),\n",
        "    Bidirectional(LSTM(128)),\n",
        "    Dropout(0.3),\n",
        "    Dense(512, activation='relu'),\n",
        "    Dropout(0.4),\n",
        "    Dense(1)\n",
        "])"
      ],
      "metadata": {
        "id": "m_Ca1LrY77jq"
      },
      "execution_count": null,
      "outputs": []
    },
    {
      "cell_type": "code",
      "source": [
        "mixed_model.compile(\n",
        "    loss=Huber(),\n",
        "    optimizer=Adam(),\n",
        "    metrics=['mae']\n",
        ")\n",
        "\n",
        "mixed_model.summary()"
      ],
      "metadata": {
        "id": "X279ttWW8CeS"
      },
      "execution_count": null,
      "outputs": []
    },
    {
      "cell_type": "code",
      "source": [
        "#Trains Mixed Model\n",
        "mixed_history = mixed_model.fit(\n",
        "    train_data_cl,\n",
        "    epochs=100,\n",
        "    callbacks=[lr_scheduler, my_callback],\n",
        "    verbose=0\n",
        ")"
      ],
      "metadata": {
        "id": "aImS5TGT8E5D",
        "outputId": "90967ec8-abbd-4780-df07-b66148c747dd",
        "colab": {
          "base_uri": "https://localhost:8080/"
        }
      },
      "execution_count": 244,
      "outputs": [
        {
          "output_type": "stream",
          "name": "stdout",
          "text": [
            "MAE under 10.0... Stopping training\n"
          ]
        }
      ]
    },
    {
      "cell_type": "code",
      "source": [
        "# Plots training history\n",
        "# Plots history of model training\n",
        "plt.rcParams[\"figure.figsize\"] = (15,5)\n",
        "fig, axs = plt.subplots(1, 2)\n",
        "\n",
        "axs[0].plot(mixed_history.history['loss'], color='red')\n",
        "axs[0].set_xlabel('Epoch')\n",
        "axs[0].set_ylabel('Loss')\n",
        "axs[0].set_title('Training Loss')\n",
        "\n",
        "axs[1].plot(mixed_history.history['mae'])\n",
        "axs[1].set_xlabel('Epoch')\n",
        "axs[1].set_ylabel('MAE')\n",
        "axs[1].set_title('Training MAE')\n",
        "\n",
        "fig.text(0.425,1, 'MIXED MODEL', {'size':25})\n",
        "plt.show()\n",
        "\n",
        "print(\"\\t\\t\\t\\t\\tFINAL LOSS: {} | FINAL MAE: {}\".format(\n",
        "                                                round(mixed_history.history['loss'][-1], 2),\n",
        "                                                 round(mixed_history.history['mae'][-1], 2)))\n"
      ],
      "metadata": {
        "id": "eyDpWnba8Jea"
      },
      "execution_count": null,
      "outputs": []
    },
    {
      "cell_type": "markdown",
      "source": [
        "**US**"
      ],
      "metadata": {
        "id": "fUttjP8V8O7O"
      }
    },
    {
      "cell_type": "code",
      "source": [
        "mixed_model = Sequential([\n",
        "    # add extra axis to input data\n",
        "    Lambda(lambda x: tf.expand_dims(x, axis=-1), input_shape=[WINDOW]), Conv1D(filters=64, kernel_size=3, strides=1,\n",
        "           padding='causal', activation='relu'),\n",
        "    Bidirectional(LSTM(128, return_sequences=True)),\n",
        "    Bidirectional(LSTM(128)),\n",
        "    Dropout(0.3),\n",
        "    Dense(512, activation='relu'),\n",
        "    Dropout(0.4),\n",
        "    Dense(1)\n",
        "])"
      ],
      "metadata": {
        "id": "nMSbYY5e8RWl"
      },
      "execution_count": null,
      "outputs": []
    },
    {
      "cell_type": "code",
      "source": [
        "mixed_model.compile(\n",
        "    loss=Huber(),\n",
        "    optimizer=Adam(),\n",
        "    metrics=['mae']\n",
        ")\n",
        "\n",
        "mixed_model.summary()"
      ],
      "metadata": {
        "id": "a4lzbILe8Sde"
      },
      "execution_count": null,
      "outputs": []
    },
    {
      "cell_type": "code",
      "source": [
        "#Trains Mixed Model\n",
        "mixed_history = mixed_model.fit(\n",
        "    train_data_us,\n",
        "    epochs=100,\n",
        "    callbacks=[lr_scheduler, my_callback],\n",
        "    verbose=0\n",
        ")"
      ],
      "metadata": {
        "id": "HafXjCh18UCP"
      },
      "execution_count": null,
      "outputs": []
    },
    {
      "cell_type": "code",
      "source": [
        "# Plots training history\n",
        "# Plots history of model training\n",
        "plt.rcParams[\"figure.figsize\"] = (15,5)\n",
        "fig, axs = plt.subplots(1, 2)\n",
        "\n",
        "axs[0].plot(mixed_history.history['loss'], color='red')\n",
        "axs[0].set_xlabel('Epoch')\n",
        "axs[0].set_ylabel('Loss')\n",
        "axs[0].set_title('Training Loss')\n",
        "\n",
        "axs[1].plot(mixed_history.history['mae'])\n",
        "axs[1].set_xlabel('Epoch')\n",
        "axs[1].set_ylabel('MAE')\n",
        "axs[1].set_title('Training MAE')\n",
        "\n",
        "fig.text(0.425,1, 'MIXED MODEL', {'size':25})\n",
        "plt.show()\n",
        "\n",
        "print(\"\\t\\t\\t\\t\\tFINAL LOSS: {} | FINAL MAE: {}\".format(\n",
        "                                                round(mixed_history.history['loss'][-1], 2),\n",
        "                                                 round(mixed_history.history['mae'][-1], 2)))\n"
      ],
      "metadata": {
        "id": "RhT9sRjc8Xmh"
      },
      "execution_count": null,
      "outputs": []
    },
    {
      "cell_type": "markdown",
      "source": [
        "# h. Forecast Data"
      ],
      "metadata": {
        "id": "5ahj2lp74eia"
      }
    },
    {
      "cell_type": "markdown",
      "source": [
        "**Australia**"
      ],
      "metadata": {
        "id": "HbfI6Ivr8898"
      }
    },
    {
      "cell_type": "code",
      "source": [
        "# Chunck of data to be windowed so that each window associated to a value in test set\n",
        "forecast_data_au = train_au[-WINDOW:].append(test_au[:-1]).values"
      ],
      "metadata": {
        "id": "UdorRUYZ4YOi"
      },
      "execution_count": null,
      "outputs": []
    },
    {
      "cell_type": "code",
      "source": [
        "model_forecasts_au = {'MIXED MODEL': []}\n",
        "\n",
        "#converts values to TensorSliceDataset\n",
        "test_data_au = tf.data.Dataset.from_tensor_slices(forecast_data_au) \n",
        "    #takes window size  slices of the dataset\n",
        "test_data_au = test_data_au.window(WINDOW, shift=1, drop_remainder=True)\n",
        "    #flattens windowed data by batching \n",
        "test_data_au = test_data_au.flat_map(lambda x: x.batch(WINDOW+1))\n",
        "    #creates batches of windows\n",
        "test_data_au = test_data_au.batch(32).prefetch(1)\n",
        "    #gets model prediction \n",
        "preds_au = mixed_model.predict(test_data_au)\n",
        "    #append to forecast dict\n",
        "model_forecasts_au['MIXED MODEL'].append(preds_au)"
      ],
      "metadata": {
        "id": "9ivKsQte4pHH"
      },
      "execution_count": null,
      "outputs": []
    },
    {
      "cell_type": "code",
      "source": [
        "N = test_au.values.shape[0] #number of samples in test set\n",
        "mix_mae = np.abs(test_au.values - model_forecasts_au['MIXED MODEL'][0].squeeze()).sum() / N\n",
        "print('MIXED MAE:', round(mix_mae, 2))"
      ],
      "metadata": {
        "id": "bGcZs-ym8sjr",
        "outputId": "04728a3f-c3be-4f2b-aaf4-63886e3f3bcc",
        "colab": {
          "base_uri": "https://localhost:8080/",
          "height": 209
        }
      },
      "execution_count": 245,
      "outputs": [
        {
          "output_type": "error",
          "ename": "NameError",
          "evalue": "ignored",
          "traceback": [
            "\u001b[0;31m---------------------------------------------------------------------------\u001b[0m",
            "\u001b[0;31mNameError\u001b[0m                                 Traceback (most recent call last)",
            "\u001b[0;32m<ipython-input-245-4e1388cc2e79>\u001b[0m in \u001b[0;36m<module>\u001b[0;34m()\u001b[0m\n\u001b[1;32m      1\u001b[0m \u001b[0mN\u001b[0m \u001b[0;34m=\u001b[0m \u001b[0mtest_au\u001b[0m\u001b[0;34m.\u001b[0m\u001b[0mvalues\u001b[0m\u001b[0;34m.\u001b[0m\u001b[0mshape\u001b[0m\u001b[0;34m[\u001b[0m\u001b[0;36m0\u001b[0m\u001b[0;34m]\u001b[0m \u001b[0;31m#number of samples in test set\u001b[0m\u001b[0;34m\u001b[0m\u001b[0;34m\u001b[0m\u001b[0m\n\u001b[0;32m----> 2\u001b[0;31m \u001b[0mmix_mae\u001b[0m \u001b[0;34m=\u001b[0m \u001b[0mnp\u001b[0m\u001b[0;34m.\u001b[0m\u001b[0mabs\u001b[0m\u001b[0;34m(\u001b[0m\u001b[0mtest_au\u001b[0m\u001b[0;34m.\u001b[0m\u001b[0mvalues\u001b[0m \u001b[0;34m-\u001b[0m \u001b[0mmodel_forecasts\u001b[0m\u001b[0;34m[\u001b[0m\u001b[0;34m'MIXED MODEL'\u001b[0m\u001b[0;34m]\u001b[0m\u001b[0;34m[\u001b[0m\u001b[0;36m0\u001b[0m\u001b[0;34m]\u001b[0m\u001b[0;34m.\u001b[0m\u001b[0msqueeze\u001b[0m\u001b[0;34m(\u001b[0m\u001b[0;34m)\u001b[0m\u001b[0;34m)\u001b[0m\u001b[0;34m.\u001b[0m\u001b[0msum\u001b[0m\u001b[0;34m(\u001b[0m\u001b[0;34m)\u001b[0m \u001b[0;34m/\u001b[0m \u001b[0mN\u001b[0m\u001b[0;34m\u001b[0m\u001b[0;34m\u001b[0m\u001b[0m\n\u001b[0m\u001b[1;32m      3\u001b[0m \u001b[0mprint\u001b[0m\u001b[0;34m(\u001b[0m\u001b[0;34m'MIXED MAE:'\u001b[0m\u001b[0;34m,\u001b[0m \u001b[0mround\u001b[0m\u001b[0;34m(\u001b[0m\u001b[0mmix_mae\u001b[0m\u001b[0;34m,\u001b[0m \u001b[0;36m2\u001b[0m\u001b[0;34m)\u001b[0m\u001b[0;34m)\u001b[0m\u001b[0;34m\u001b[0m\u001b[0;34m\u001b[0m\u001b[0m\n",
            "\u001b[0;31mNameError\u001b[0m: name 'model_forecasts' is not defined"
          ]
        }
      ]
    },
    {
      "cell_type": "code",
      "source": [
        "#displays forecasted data\n",
        "plt.rcParams[\"figure.figsize\"] = (15,20)\n",
        "fig, axs = plt.subplots(4, 1)\n",
        "\n",
        "#Mixed Model Forecast\n",
        "axs[2].plot(test_au.values, color='black', linestyle='--', label='Actual Value')\n",
        "axs[2].plot(model_forecasts_au['MIXED MODEL'][0].squeeze(), color='red', label='Mixed')\n",
        "axs[2].set_title('MIXED MODEL FORECAST')\n",
        "axs[2].legend()"
      ],
      "metadata": {
        "id": "xnyZ1c8-8wuC"
      },
      "execution_count": null,
      "outputs": []
    },
    {
      "cell_type": "markdown",
      "source": [
        "**Canada**"
      ],
      "metadata": {
        "id": "x9YQYCPR9AJU"
      }
    },
    {
      "cell_type": "code",
      "source": [
        "# Chunck of data to be windowed so that each window associated to a value in test set\n",
        "forecast_data_ca = train_ca[-WINDOW:].append(test_ca[:-1]).values"
      ],
      "metadata": {
        "id": "xKQnd9rr9BQn"
      },
      "execution_count": null,
      "outputs": []
    },
    {
      "cell_type": "code",
      "source": [
        "model_forecasts_ca = {'MIXED MODEL': []}\n",
        "\n",
        "#converts values to TensorSliceDataset\n",
        "test_data_ca = tf.data.Dataset.from_tensor_slices(forecast_data_ca) \n",
        "    #takes window size  slices of the dataset\n",
        "test_data_ca = test_data_ca.window(WINDOW, shift=1, drop_remainder=True)\n",
        "    #flattens windowed data by batching \n",
        "test_data_ca = test_data_ca.flat_map(lambda x: x.batch(WINDOW+1))\n",
        "    #creates batches of windows\n",
        "test_data_ca = test_data_ca.batch(32).prefetch(1)\n",
        "    #gets model prediction \n",
        "preds_ca = mixed_model.predict(test_data_ca)\n",
        "    #append to forecast dict\n",
        "model_forecasts_ca['MIXED MODEL'].append(preds_ca)"
      ],
      "metadata": {
        "id": "m5314B3y9GCZ"
      },
      "execution_count": null,
      "outputs": []
    },
    {
      "cell_type": "code",
      "source": [
        "N = test_ca.values.shape[0] #number of samples in test set\n",
        "mix_mae = np.abs(test_au.values - model_forecasts_ca['MIXED MODEL'][0].squeeze()).sum() / N\n",
        "print('MIXED MAE:', round(mix_mae, 2))"
      ],
      "metadata": {
        "id": "MyHao5GB9QI5"
      },
      "execution_count": null,
      "outputs": []
    },
    {
      "cell_type": "code",
      "source": [
        "#displays forecasted data\n",
        "plt.rcParams[\"figure.figsize\"] = (15,20)\n",
        "fig, axs = plt.subplots(4, 1)\n",
        "\n",
        "#Mixed Model Forecast\n",
        "axs[2].plot(test_ca.values, color='black', linestyle='--', label='Actual Value')\n",
        "axs[2].plot(model_forecasts_ca['MIXED MODEL'][0].squeeze(), color='red', label='Mixed')\n",
        "axs[2].set_title('MIXED MODEL FORECAST')\n",
        "axs[2].legend()"
      ],
      "metadata": {
        "id": "PIdtu92B9UpI"
      },
      "execution_count": null,
      "outputs": []
    },
    {
      "cell_type": "markdown",
      "source": [
        "**Chile**"
      ],
      "metadata": {
        "id": "8Jg7ET0i-dtV"
      }
    },
    {
      "cell_type": "code",
      "source": [
        "# Chunck of data to be windowed so that each window associated to a value in test set\n",
        "forecast_data_cl = train_cl[-WINDOW:].append(test_cl[:-1]).values"
      ],
      "metadata": {
        "id": "otomTmSL-dtY"
      },
      "execution_count": null,
      "outputs": []
    },
    {
      "cell_type": "code",
      "source": [
        "model_forecasts_ca = {'MIXED MODEL': []}\n",
        "\n",
        "#converts values to TensorSliceDataset\n",
        "test_data_cl = tf.data.Dataset.from_tensor_slices(forecast_data_cl) \n",
        "    #takes window size  slices of the dataset\n",
        "test_data_cl = test_data_cl.window(WINDOW, shift=1, drop_remainder=True)\n",
        "    #flattens windowed data by batching \n",
        "test_data_cl = test_data_cl.flat_map(lambda x: x.batch(WINDOW+1))\n",
        "    #creates batches of windows\n",
        "test_data_cl = test_data_cl.batch(32).prefetch(1)\n",
        "    #gets model prediction \n",
        "preds_cl = mixed_model.predict(test_data_cl)\n",
        "    #append to forecast dict\n",
        "model_forecasts_cl['MIXED MODEL'].append(preds_cl)"
      ],
      "metadata": {
        "id": "D9yZlBPg-dta"
      },
      "execution_count": null,
      "outputs": []
    },
    {
      "cell_type": "code",
      "source": [
        "N = test_cl.values.shape[0] #number of samples in test set\n",
        "mix_mae = np.abs(test_au.values - model_forecasts_cl['MIXED MODEL'][0].squeeze()).sum() / N\n",
        "print('MIXED MAE:', round(mix_mae, 2))"
      ],
      "metadata": {
        "id": "d8_rl375-dtc"
      },
      "execution_count": null,
      "outputs": []
    },
    {
      "cell_type": "code",
      "source": [
        "#displays forecasted data\n",
        "plt.rcParams[\"figure.figsize\"] = (15,20)\n",
        "fig, axs = plt.subplots(4, 1)\n",
        "\n",
        "#Mixed Model Forecast\n",
        "axs[2].plot(test_cl.values, color='black', linestyle='--', label='Actual Value')\n",
        "axs[2].plot(model_forecasts_cl['MIXED MODEL'][0].squeeze(), color='red', label='Mixed')\n",
        "axs[2].set_title('MIXED MODEL FORECAST')\n",
        "axs[2].legend()"
      ],
      "metadata": {
        "id": "CB94E0eZ-dtd"
      },
      "execution_count": null,
      "outputs": []
    },
    {
      "cell_type": "markdown",
      "source": [
        "**US**"
      ],
      "metadata": {
        "id": "mI7qUFix-qs7"
      }
    },
    {
      "cell_type": "code",
      "source": [
        "# Chunck of data to be windowed so that each window associated to a value in test set\n",
        "forecast_data_us = train_us[-WINDOW:].append(test_us[:-1]).values"
      ],
      "metadata": {
        "id": "9JPdVF2y-qs9"
      },
      "execution_count": null,
      "outputs": []
    },
    {
      "cell_type": "code",
      "source": [
        "model_forecasts_ca = {'MIXED MODEL': []}\n",
        "\n",
        "#converts values to TensorSliceDataset\n",
        "test_data_us = tf.data.Dataset.from_tensor_slices(forecast_data_us) \n",
        "    #takes window size  slices of the dataset\n",
        "test_data_us = test_data_us.window(WINDOW, shift=1, drop_remainder=True)\n",
        "    #flattens windowed data by batching \n",
        "test_data_us = test_data_us.flat_map(lambda x: x.batch(WINDOW+1))\n",
        "    #creates batches of windows\n",
        "test_data_us = test_data_us.batch(32).prefetch(1)\n",
        "    #gets model prediction \n",
        "preds_us = mixed_model.predict(test_data_us)\n",
        "    #append to forecast dict\n",
        "model_forecasts_us['MIXED MODEL'].append(preds_us)"
      ],
      "metadata": {
        "id": "7mCqC6yS-qs_"
      },
      "execution_count": null,
      "outputs": []
    },
    {
      "cell_type": "code",
      "source": [
        "N = test_ca.values.shape[0] #number of samples in test set\n",
        "mix_mae = np.abs(test_au.values - model_forecasts_ca['MIXED MODEL'][0].squeeze()).sum() / N\n",
        "print('MIXED MAE:', round(mix_mae, 2))"
      ],
      "metadata": {
        "id": "wsum2Ftr-qtB"
      },
      "execution_count": null,
      "outputs": []
    },
    {
      "cell_type": "code",
      "source": [
        "#displays forecasted data\n",
        "plt.rcParams[\"figure.figsize\"] = (15,20)\n",
        "fig, axs = plt.subplots(4, 1)\n",
        "\n",
        "#Mixed Model Forecast\n",
        "axs[2].plot(test_ca.values, color='black', linestyle='--', label='Actual Value')\n",
        "axs[2].plot(model_forecasts_ca['MIXED MODEL'][0].squeeze(), color='red', label='Mixed')\n",
        "axs[2].set_title('MIXED MODEL FORECAST')\n",
        "axs[2].legend()"
      ],
      "metadata": {
        "id": "iS4zcaqv-qtC"
      },
      "execution_count": null,
      "outputs": []
    }
  ]
}