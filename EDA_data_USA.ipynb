{
  "nbformat": 4,
  "nbformat_minor": 0,
  "metadata": {
    "colab": {
      "name": "EDA data USA",
      "provenance": [],
      "mount_file_id": "1dmKYt9ZopNq7Y7T9qlrLT7mDo5TsRlmd",
      "authorship_tag": "ABX9TyOJDkFCsvzTsYCiENhSpd26",
      "include_colab_link": true
    },
    "kernelspec": {
      "name": "python3",
      "display_name": "Python 3"
    },
    "language_info": {
      "name": "python"
    }
  },
  "cells": [
    {
      "cell_type": "markdown",
      "metadata": {
        "id": "view-in-github",
        "colab_type": "text"
      },
      "source": [
        "<a href=\"https://colab.research.google.com/github/tiaherdi/Traffic-Sign-5/blob/Tia-Herdiastuti/EDA_data_USA.ipynb\" target=\"_parent\"><img src=\"https://colab.research.google.com/assets/colab-badge.svg\" alt=\"Open In Colab\"/></a>"
      ]
    },
    {
      "cell_type": "code",
      "execution_count": null,
      "metadata": {
        "id": "19nQlMEBFM9S"
      },
      "outputs": [],
      "source": [
        "import pandas as pd\n",
        "import numpy as py\n",
        "import matplotlib.pyplot as plt"
      ]
    },
    {
      "cell_type": "code",
      "source": [
        "df = pd.read_csv('/content/drive/MyDrive/covid_impact_on_airport_traffic.csv')\n",
        "pd.to_datetime(df['Date'])\n",
        "df.query(\"Country == 'United States of America (the)'\").head()"
      ],
      "metadata": {
        "colab": {
          "base_uri": "https://localhost:8080/",
          "height": 617
        },
        "id": "9f0gGHhGF2EX",
        "outputId": "8554af54-0ac7-4c6b-c775-09d410f43c90"
      },
      "execution_count": null,
      "outputs": [
        {
          "output_type": "execute_result",
          "data": {
            "text/plain": [
              "     AggregationMethod        Date  Version                AirportName  \\\n",
              "2806             Daily  2020-06-22      1.0  Los Angeles International   \n",
              "2807             Daily  2020-09-27      1.0  Los Angeles International   \n",
              "2808             Daily  2020-03-22      1.0  Los Angeles International   \n",
              "2809             Daily  2020-03-23      1.0  Los Angeles International   \n",
              "2810             Daily  2020-05-19      1.0  Los Angeles International   \n",
              "\n",
              "      PercentOfBaseline                                  Centroid  \\\n",
              "2806                 63  POINT(-118.404993180627 33.941369379328)   \n",
              "2807                 68  POINT(-118.404993180627 33.941369379328)   \n",
              "2808                 76  POINT(-118.404993180627 33.941369379328)   \n",
              "2809                 73  POINT(-118.404993180627 33.941369379328)   \n",
              "2810                 67  POINT(-118.404993180627 33.941369379328)   \n",
              "\n",
              "             City       State ISO_3166_2                         Country  \\\n",
              "2806  Los Angeles  California      US-CA  United States of America (the)   \n",
              "2807  Los Angeles  California      US-CA  United States of America (the)   \n",
              "2808  Los Angeles  California      US-CA  United States of America (the)   \n",
              "2809  Los Angeles  California      US-CA  United States of America (the)   \n",
              "2810  Los Angeles  California      US-CA  United States of America (the)   \n",
              "\n",
              "                                              Geography  \n",
              "2806  POLYGON((-118.439612388611 33.9517616366508, -...  \n",
              "2807  POLYGON((-118.439612388611 33.9517616366508, -...  \n",
              "2808  POLYGON((-118.439612388611 33.9517616366508, -...  \n",
              "2809  POLYGON((-118.439612388611 33.9517616366508, -...  \n",
              "2810  POLYGON((-118.439612388611 33.9517616366508, -...  "
            ],
            "text/html": [
              "\n",
              "  <div id=\"df-dc701454-cce8-4a73-bd82-b3b6337c2607\">\n",
              "    <div class=\"colab-df-container\">\n",
              "      <div>\n",
              "<style scoped>\n",
              "    .dataframe tbody tr th:only-of-type {\n",
              "        vertical-align: middle;\n",
              "    }\n",
              "\n",
              "    .dataframe tbody tr th {\n",
              "        vertical-align: top;\n",
              "    }\n",
              "\n",
              "    .dataframe thead th {\n",
              "        text-align: right;\n",
              "    }\n",
              "</style>\n",
              "<table border=\"1\" class=\"dataframe\">\n",
              "  <thead>\n",
              "    <tr style=\"text-align: right;\">\n",
              "      <th></th>\n",
              "      <th>AggregationMethod</th>\n",
              "      <th>Date</th>\n",
              "      <th>Version</th>\n",
              "      <th>AirportName</th>\n",
              "      <th>PercentOfBaseline</th>\n",
              "      <th>Centroid</th>\n",
              "      <th>City</th>\n",
              "      <th>State</th>\n",
              "      <th>ISO_3166_2</th>\n",
              "      <th>Country</th>\n",
              "      <th>Geography</th>\n",
              "    </tr>\n",
              "  </thead>\n",
              "  <tbody>\n",
              "    <tr>\n",
              "      <th>2806</th>\n",
              "      <td>Daily</td>\n",
              "      <td>2020-06-22</td>\n",
              "      <td>1.0</td>\n",
              "      <td>Los Angeles International</td>\n",
              "      <td>63</td>\n",
              "      <td>POINT(-118.404993180627 33.941369379328)</td>\n",
              "      <td>Los Angeles</td>\n",
              "      <td>California</td>\n",
              "      <td>US-CA</td>\n",
              "      <td>United States of America (the)</td>\n",
              "      <td>POLYGON((-118.439612388611 33.9517616366508, -...</td>\n",
              "    </tr>\n",
              "    <tr>\n",
              "      <th>2807</th>\n",
              "      <td>Daily</td>\n",
              "      <td>2020-09-27</td>\n",
              "      <td>1.0</td>\n",
              "      <td>Los Angeles International</td>\n",
              "      <td>68</td>\n",
              "      <td>POINT(-118.404993180627 33.941369379328)</td>\n",
              "      <td>Los Angeles</td>\n",
              "      <td>California</td>\n",
              "      <td>US-CA</td>\n",
              "      <td>United States of America (the)</td>\n",
              "      <td>POLYGON((-118.439612388611 33.9517616366508, -...</td>\n",
              "    </tr>\n",
              "    <tr>\n",
              "      <th>2808</th>\n",
              "      <td>Daily</td>\n",
              "      <td>2020-03-22</td>\n",
              "      <td>1.0</td>\n",
              "      <td>Los Angeles International</td>\n",
              "      <td>76</td>\n",
              "      <td>POINT(-118.404993180627 33.941369379328)</td>\n",
              "      <td>Los Angeles</td>\n",
              "      <td>California</td>\n",
              "      <td>US-CA</td>\n",
              "      <td>United States of America (the)</td>\n",
              "      <td>POLYGON((-118.439612388611 33.9517616366508, -...</td>\n",
              "    </tr>\n",
              "    <tr>\n",
              "      <th>2809</th>\n",
              "      <td>Daily</td>\n",
              "      <td>2020-03-23</td>\n",
              "      <td>1.0</td>\n",
              "      <td>Los Angeles International</td>\n",
              "      <td>73</td>\n",
              "      <td>POINT(-118.404993180627 33.941369379328)</td>\n",
              "      <td>Los Angeles</td>\n",
              "      <td>California</td>\n",
              "      <td>US-CA</td>\n",
              "      <td>United States of America (the)</td>\n",
              "      <td>POLYGON((-118.439612388611 33.9517616366508, -...</td>\n",
              "    </tr>\n",
              "    <tr>\n",
              "      <th>2810</th>\n",
              "      <td>Daily</td>\n",
              "      <td>2020-05-19</td>\n",
              "      <td>1.0</td>\n",
              "      <td>Los Angeles International</td>\n",
              "      <td>67</td>\n",
              "      <td>POINT(-118.404993180627 33.941369379328)</td>\n",
              "      <td>Los Angeles</td>\n",
              "      <td>California</td>\n",
              "      <td>US-CA</td>\n",
              "      <td>United States of America (the)</td>\n",
              "      <td>POLYGON((-118.439612388611 33.9517616366508, -...</td>\n",
              "    </tr>\n",
              "  </tbody>\n",
              "</table>\n",
              "</div>\n",
              "      <button class=\"colab-df-convert\" onclick=\"convertToInteractive('df-dc701454-cce8-4a73-bd82-b3b6337c2607')\"\n",
              "              title=\"Convert this dataframe to an interactive table.\"\n",
              "              style=\"display:none;\">\n",
              "        \n",
              "  <svg xmlns=\"http://www.w3.org/2000/svg\" height=\"24px\"viewBox=\"0 0 24 24\"\n",
              "       width=\"24px\">\n",
              "    <path d=\"M0 0h24v24H0V0z\" fill=\"none\"/>\n",
              "    <path d=\"M18.56 5.44l.94 2.06.94-2.06 2.06-.94-2.06-.94-.94-2.06-.94 2.06-2.06.94zm-11 1L8.5 8.5l.94-2.06 2.06-.94-2.06-.94L8.5 2.5l-.94 2.06-2.06.94zm10 10l.94 2.06.94-2.06 2.06-.94-2.06-.94-.94-2.06-.94 2.06-2.06.94z\"/><path d=\"M17.41 7.96l-1.37-1.37c-.4-.4-.92-.59-1.43-.59-.52 0-1.04.2-1.43.59L10.3 9.45l-7.72 7.72c-.78.78-.78 2.05 0 2.83L4 21.41c.39.39.9.59 1.41.59.51 0 1.02-.2 1.41-.59l7.78-7.78 2.81-2.81c.8-.78.8-2.07 0-2.86zM5.41 20L4 18.59l7.72-7.72 1.47 1.35L5.41 20z\"/>\n",
              "  </svg>\n",
              "      </button>\n",
              "      \n",
              "  <style>\n",
              "    .colab-df-container {\n",
              "      display:flex;\n",
              "      flex-wrap:wrap;\n",
              "      gap: 12px;\n",
              "    }\n",
              "\n",
              "    .colab-df-convert {\n",
              "      background-color: #E8F0FE;\n",
              "      border: none;\n",
              "      border-radius: 50%;\n",
              "      cursor: pointer;\n",
              "      display: none;\n",
              "      fill: #1967D2;\n",
              "      height: 32px;\n",
              "      padding: 0 0 0 0;\n",
              "      width: 32px;\n",
              "    }\n",
              "\n",
              "    .colab-df-convert:hover {\n",
              "      background-color: #E2EBFA;\n",
              "      box-shadow: 0px 1px 2px rgba(60, 64, 67, 0.3), 0px 1px 3px 1px rgba(60, 64, 67, 0.15);\n",
              "      fill: #174EA6;\n",
              "    }\n",
              "\n",
              "    [theme=dark] .colab-df-convert {\n",
              "      background-color: #3B4455;\n",
              "      fill: #D2E3FC;\n",
              "    }\n",
              "\n",
              "    [theme=dark] .colab-df-convert:hover {\n",
              "      background-color: #434B5C;\n",
              "      box-shadow: 0px 1px 3px 1px rgba(0, 0, 0, 0.15);\n",
              "      filter: drop-shadow(0px 1px 2px rgba(0, 0, 0, 0.3));\n",
              "      fill: #FFFFFF;\n",
              "    }\n",
              "  </style>\n",
              "\n",
              "      <script>\n",
              "        const buttonEl =\n",
              "          document.querySelector('#df-dc701454-cce8-4a73-bd82-b3b6337c2607 button.colab-df-convert');\n",
              "        buttonEl.style.display =\n",
              "          google.colab.kernel.accessAllowed ? 'block' : 'none';\n",
              "\n",
              "        async function convertToInteractive(key) {\n",
              "          const element = document.querySelector('#df-dc701454-cce8-4a73-bd82-b3b6337c2607');\n",
              "          const dataTable =\n",
              "            await google.colab.kernel.invokeFunction('convertToInteractive',\n",
              "                                                     [key], {});\n",
              "          if (!dataTable) return;\n",
              "\n",
              "          const docLinkHtml = 'Like what you see? Visit the ' +\n",
              "            '<a target=\"_blank\" href=https://colab.research.google.com/notebooks/data_table.ipynb>data table notebook</a>'\n",
              "            + ' to learn more about interactive tables.';\n",
              "          element.innerHTML = '';\n",
              "          dataTable['output_type'] = 'display_data';\n",
              "          await google.colab.output.renderOutput(dataTable, element);\n",
              "          const docLink = document.createElement('div');\n",
              "          docLink.innerHTML = docLinkHtml;\n",
              "          element.appendChild(docLink);\n",
              "        }\n",
              "      </script>\n",
              "    </div>\n",
              "  </div>\n",
              "  "
            ]
          },
          "metadata": {},
          "execution_count": 20
        }
      ]
    },
    {
      "cell_type": "markdown",
      "source": [
        "1. Structure"
      ],
      "metadata": {
        "id": "NwB1q8G7G3nH"
      }
    },
    {
      "cell_type": "code",
      "source": [
        "# Size of the dataset\n",
        "\n",
        "df.query(\"Country == 'United States of America (the)'\").shape\n",
        "\n",
        "# Count each data type is present in the dataset\n",
        "pd.value_counts(df.dtypes)"
      ],
      "metadata": {
        "colab": {
          "base_uri": "https://localhost:8080/"
        },
        "id": "rl89nGtzGRld",
        "outputId": "0a4709a6-514e-43dc-ac0c-dd63d4c68a2b"
      },
      "execution_count": null,
      "outputs": [
        {
          "output_type": "execute_result",
          "data": {
            "text/plain": [
              "object     9\n",
              "float64    1\n",
              "int64      1\n",
              "dtype: int64"
            ]
          },
          "metadata": {},
          "execution_count": 21
        }
      ]
    },
    {
      "cell_type": "code",
      "source": [
        "# To investigate how many uniques values each non-numerical feature\n",
        "df.query(\"Country == 'United States of America (the)'\").describe(exclude=\"number\")"
      ],
      "metadata": {
        "colab": {
          "base_uri": "https://localhost:8080/",
          "height": 308
        },
        "id": "uGVQQnO9G-1k",
        "outputId": "f1064fb2-3ab1-4c6a-f339-d72ec3429e68"
      },
      "execution_count": null,
      "outputs": [
        {
          "output_type": "execute_result",
          "data": {
            "text/plain": [
              "       AggregationMethod        Date                AirportName  \\\n",
              "count               4441        4441                       4441   \n",
              "unique                 1         262                         17   \n",
              "top                Daily  2020-06-22  Los Angeles International   \n",
              "freq                4441          17                        262   \n",
              "\n",
              "                                        Centroid      City       State  \\\n",
              "count                                       4441      4441        4441   \n",
              "unique                                        17        16          15   \n",
              "top     POINT(-118.404993180627 33.941369379328)  New York  California   \n",
              "freq                                         262       523         523   \n",
              "\n",
              "       ISO_3166_2                         Country  \\\n",
              "count        4441                            4441   \n",
              "unique         15                               1   \n",
              "top         US-CA  United States of America (the)   \n",
              "freq          523                            4441   \n",
              "\n",
              "                                                Geography  \n",
              "count                                                4441  \n",
              "unique                                                 17  \n",
              "top     POLYGON((-118.439612388611 33.9517616366508, -...  \n",
              "freq                                                  262  "
            ],
            "text/html": [
              "\n",
              "  <div id=\"df-fffc806a-9cf4-4a74-b1ad-d3801a4f2c03\">\n",
              "    <div class=\"colab-df-container\">\n",
              "      <div>\n",
              "<style scoped>\n",
              "    .dataframe tbody tr th:only-of-type {\n",
              "        vertical-align: middle;\n",
              "    }\n",
              "\n",
              "    .dataframe tbody tr th {\n",
              "        vertical-align: top;\n",
              "    }\n",
              "\n",
              "    .dataframe thead th {\n",
              "        text-align: right;\n",
              "    }\n",
              "</style>\n",
              "<table border=\"1\" class=\"dataframe\">\n",
              "  <thead>\n",
              "    <tr style=\"text-align: right;\">\n",
              "      <th></th>\n",
              "      <th>AggregationMethod</th>\n",
              "      <th>Date</th>\n",
              "      <th>AirportName</th>\n",
              "      <th>Centroid</th>\n",
              "      <th>City</th>\n",
              "      <th>State</th>\n",
              "      <th>ISO_3166_2</th>\n",
              "      <th>Country</th>\n",
              "      <th>Geography</th>\n",
              "    </tr>\n",
              "  </thead>\n",
              "  <tbody>\n",
              "    <tr>\n",
              "      <th>count</th>\n",
              "      <td>4441</td>\n",
              "      <td>4441</td>\n",
              "      <td>4441</td>\n",
              "      <td>4441</td>\n",
              "      <td>4441</td>\n",
              "      <td>4441</td>\n",
              "      <td>4441</td>\n",
              "      <td>4441</td>\n",
              "      <td>4441</td>\n",
              "    </tr>\n",
              "    <tr>\n",
              "      <th>unique</th>\n",
              "      <td>1</td>\n",
              "      <td>262</td>\n",
              "      <td>17</td>\n",
              "      <td>17</td>\n",
              "      <td>16</td>\n",
              "      <td>15</td>\n",
              "      <td>15</td>\n",
              "      <td>1</td>\n",
              "      <td>17</td>\n",
              "    </tr>\n",
              "    <tr>\n",
              "      <th>top</th>\n",
              "      <td>Daily</td>\n",
              "      <td>2020-06-22</td>\n",
              "      <td>Los Angeles International</td>\n",
              "      <td>POINT(-118.404993180627 33.941369379328)</td>\n",
              "      <td>New York</td>\n",
              "      <td>California</td>\n",
              "      <td>US-CA</td>\n",
              "      <td>United States of America (the)</td>\n",
              "      <td>POLYGON((-118.439612388611 33.9517616366508, -...</td>\n",
              "    </tr>\n",
              "    <tr>\n",
              "      <th>freq</th>\n",
              "      <td>4441</td>\n",
              "      <td>17</td>\n",
              "      <td>262</td>\n",
              "      <td>262</td>\n",
              "      <td>523</td>\n",
              "      <td>523</td>\n",
              "      <td>523</td>\n",
              "      <td>4441</td>\n",
              "      <td>262</td>\n",
              "    </tr>\n",
              "  </tbody>\n",
              "</table>\n",
              "</div>\n",
              "      <button class=\"colab-df-convert\" onclick=\"convertToInteractive('df-fffc806a-9cf4-4a74-b1ad-d3801a4f2c03')\"\n",
              "              title=\"Convert this dataframe to an interactive table.\"\n",
              "              style=\"display:none;\">\n",
              "        \n",
              "  <svg xmlns=\"http://www.w3.org/2000/svg\" height=\"24px\"viewBox=\"0 0 24 24\"\n",
              "       width=\"24px\">\n",
              "    <path d=\"M0 0h24v24H0V0z\" fill=\"none\"/>\n",
              "    <path d=\"M18.56 5.44l.94 2.06.94-2.06 2.06-.94-2.06-.94-.94-2.06-.94 2.06-2.06.94zm-11 1L8.5 8.5l.94-2.06 2.06-.94-2.06-.94L8.5 2.5l-.94 2.06-2.06.94zm10 10l.94 2.06.94-2.06 2.06-.94-2.06-.94-.94-2.06-.94 2.06-2.06.94z\"/><path d=\"M17.41 7.96l-1.37-1.37c-.4-.4-.92-.59-1.43-.59-.52 0-1.04.2-1.43.59L10.3 9.45l-7.72 7.72c-.78.78-.78 2.05 0 2.83L4 21.41c.39.39.9.59 1.41.59.51 0 1.02-.2 1.41-.59l7.78-7.78 2.81-2.81c.8-.78.8-2.07 0-2.86zM5.41 20L4 18.59l7.72-7.72 1.47 1.35L5.41 20z\"/>\n",
              "  </svg>\n",
              "      </button>\n",
              "      \n",
              "  <style>\n",
              "    .colab-df-container {\n",
              "      display:flex;\n",
              "      flex-wrap:wrap;\n",
              "      gap: 12px;\n",
              "    }\n",
              "\n",
              "    .colab-df-convert {\n",
              "      background-color: #E8F0FE;\n",
              "      border: none;\n",
              "      border-radius: 50%;\n",
              "      cursor: pointer;\n",
              "      display: none;\n",
              "      fill: #1967D2;\n",
              "      height: 32px;\n",
              "      padding: 0 0 0 0;\n",
              "      width: 32px;\n",
              "    }\n",
              "\n",
              "    .colab-df-convert:hover {\n",
              "      background-color: #E2EBFA;\n",
              "      box-shadow: 0px 1px 2px rgba(60, 64, 67, 0.3), 0px 1px 3px 1px rgba(60, 64, 67, 0.15);\n",
              "      fill: #174EA6;\n",
              "    }\n",
              "\n",
              "    [theme=dark] .colab-df-convert {\n",
              "      background-color: #3B4455;\n",
              "      fill: #D2E3FC;\n",
              "    }\n",
              "\n",
              "    [theme=dark] .colab-df-convert:hover {\n",
              "      background-color: #434B5C;\n",
              "      box-shadow: 0px 1px 3px 1px rgba(0, 0, 0, 0.15);\n",
              "      filter: drop-shadow(0px 1px 2px rgba(0, 0, 0, 0.3));\n",
              "      fill: #FFFFFF;\n",
              "    }\n",
              "  </style>\n",
              "\n",
              "      <script>\n",
              "        const buttonEl =\n",
              "          document.querySelector('#df-fffc806a-9cf4-4a74-b1ad-d3801a4f2c03 button.colab-df-convert');\n",
              "        buttonEl.style.display =\n",
              "          google.colab.kernel.accessAllowed ? 'block' : 'none';\n",
              "\n",
              "        async function convertToInteractive(key) {\n",
              "          const element = document.querySelector('#df-fffc806a-9cf4-4a74-b1ad-d3801a4f2c03');\n",
              "          const dataTable =\n",
              "            await google.colab.kernel.invokeFunction('convertToInteractive',\n",
              "                                                     [key], {});\n",
              "          if (!dataTable) return;\n",
              "\n",
              "          const docLinkHtml = 'Like what you see? Visit the ' +\n",
              "            '<a target=\"_blank\" href=https://colab.research.google.com/notebooks/data_table.ipynb>data table notebook</a>'\n",
              "            + ' to learn more about interactive tables.';\n",
              "          element.innerHTML = '';\n",
              "          dataTable['output_type'] = 'display_data';\n",
              "          await google.colab.output.renderOutput(dataTable, element);\n",
              "          const docLink = document.createElement('div');\n",
              "          docLink.innerHTML = docLinkHtml;\n",
              "          element.appendChild(docLink);\n",
              "        }\n",
              "      </script>\n",
              "    </div>\n",
              "  </div>\n",
              "  "
            ]
          },
          "metadata": {},
          "execution_count": 19
        }
      ]
    },
    {
      "cell_type": "code",
      "source": [
        "# Structure of numerical features\n",
        "\n",
        "# For each numerical feature compute number of unique entries\n",
        "unique_values = df.query(\"Country == 'United States of America (the)'\").select_dtypes(include=\"number\").nunique().sort_values()\n",
        "\n",
        "# Plot \n",
        "unique_values.plot.bar(logy=True, figsize=(15,4), title=\"Unique values per feature\")\n"
      ],
      "metadata": {
        "colab": {
          "base_uri": "https://localhost:8080/",
          "height": 365
        },
        "id": "3nNmBO9sHoMN",
        "outputId": "ea9b0aae-429c-4f32-8869-f3d57cc80008"
      },
      "execution_count": null,
      "outputs": [
        {
          "output_type": "execute_result",
          "data": {
            "text/plain": [
              "<matplotlib.axes._subplots.AxesSubplot at 0x7f17a2f39a50>"
            ]
          },
          "metadata": {},
          "execution_count": 25
        },
        {
          "output_type": "display_data",
          "data": {
            "text/plain": [
              "<Figure size 1080x288 with 1 Axes>"
            ],
            "image/png": "[encoded data removed]"
          },
          "metadata": {
            "needs_background": "light"
          }
        }
      ]
    },
    {
      "cell_type": "markdown",
      "source": [
        "2. Quality"
      ],
      "metadata": {
        "id": "ejqXpJ3RMlgc"
      }
    },
    {
      "cell_type": "code",
      "source": [
        "# Drop duplicates\n",
        "\n",
        "df[\"Country\"]==\"United States of America (the)\" = df[\"Country\"]==\"United States of America (the)\".drop_duplicates(subset=columns_to_consider)\n",
        "df[\"Country\"]==\"United States of America (the)\".shape"
      ],
      "metadata": {
        "colab": {
          "base_uri": "https://localhost:8080/",
          "height": 165
        },
        "id": "qMrWx1oxMPJh",
        "outputId": "08b7e9ac-06ac-46f2-bfe5-00c07c6612e3"
      },
      "execution_count": null,
      "outputs": [
        {
          "output_type": "error",
          "ename": "SyntaxError",
          "evalue": "ignored",
          "traceback": [
            "\u001b[0;36m  File \u001b[0;32m\"<ipython-input-1-a758e4c933da>\"\u001b[0;36m, line \u001b[0;32m3\u001b[0m\n\u001b[0;31m    df[\"Country\"]==\"United States of America (the)\" = df[\"Country\"]==\"United States of America (the)\".drop_duplicates(subset=columns_to_consider)\u001b[0m\n\u001b[0m                                                                                                                                                 ^\u001b[0m\n\u001b[0;31mSyntaxError\u001b[0m\u001b[0;31m:\u001b[0m can't assign to comparison\n"
          ]
        }
      ]
    },
    {
      "cell_type": "code",
      "source": [
        ""
      ],
      "metadata": {
        "id": "8KPfFythMh_5"
      },
      "execution_count": null,
      "outputs": []
    }
  ]
}